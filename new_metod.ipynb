{
 "cells": [
  {
   "cell_type": "markdown",
   "metadata": {},
   "source": [
    "# Импорты"
   ]
  },
  {
   "cell_type": "code",
   "execution_count": 1,
   "metadata": {},
   "outputs": [],
   "source": [
    "import pandas as pd\n",
    "import numpy as np\n",
    "from pathlib import Path"
   ]
  },
  {
   "cell_type": "markdown",
   "metadata": {},
   "source": [
    "## Дефолтные настройки Matplotlib"
   ]
  },
  {
   "cell_type": "code",
   "execution_count": 2,
   "metadata": {},
   "outputs": [],
   "source": [
    "import matplotlib.pyplot as plt\n",
    "\n",
    "# устанавливаем дефолтные размеры шрифтов\n",
    "plt.rc('font', size=14)\n",
    "plt.rc('axes', labelsize=14, titlesize=14)\n",
    "plt.rc('legend', fontsize=14)\n",
    "plt.rc('xtick', labelsize=10)\n",
    "plt.rc('ytick', labelsize=10)"
   ]
  },
  {
   "cell_type": "markdown",
   "metadata": {},
   "source": [
    "# Константы"
   ]
  },
  {
   "cell_type": "code",
   "execution_count": 3,
   "metadata": {},
   "outputs": [],
   "source": [
    "DATA_PATH = 'data/'\n",
    "IMAGES_PATH = Path() / \"imgs\"\n",
    "IMAGES_PATH.mkdir(parents=True, exist_ok=True)\n",
    "SEED = 30\n",
    "\n",
    "\n",
    "\n",
    "\n",
    "np.random.seed(SEED)"
   ]
  },
  {
   "cell_type": "code",
   "execution_count": 4,
   "metadata": {},
   "outputs": [],
   "source": [
    "convert_type_dict = {'parameter1': float,\n",
    "                    'parameter2': float,\n",
    "                    'criteria1': float,\n",
    "                    'criteria2': float,\n",
    "                    'constraint1': bool,\n",
    "                    'constraint2': bool,\n",
    "                    }"
   ]
  },
  {
   "cell_type": "markdown",
   "metadata": {},
   "source": [
    "Загрузка датасета"
   ]
  },
  {
   "cell_type": "code",
   "execution_count": 5,
   "metadata": {},
   "outputs": [],
   "source": [
    "def load_data(path: Path):\n",
    "    print(\"Read data set from path {path}\".format(path=path))\n",
    "    df = pd.read_csv(path).astype(convert_type_dict)\n",
    "    return df"
   ]
  },
  {
   "cell_type": "code",
   "execution_count": 6,
   "metadata": {},
   "outputs": [],
   "source": [
    "def save_fig(fig_id, tight_layout=True, fig_extension=\"png\", resolution=300):\n",
    "    path = IMAGES_PATH / f\"{fig_id}.{fig_extension}\"\n",
    "    if tight_layout:\n",
    "        plt.tight_layout()\n",
    "    plt.savefig(path, format=fig_extension, dpi=resolution)"
   ]
  },
  {
   "cell_type": "markdown",
   "metadata": {},
   "source": [
    "Непосредственно загрузка"
   ]
  },
  {
   "cell_type": "code",
   "execution_count": 7,
   "metadata": {},
   "outputs": [
    {
     "name": "stdout",
     "output_type": "stream",
     "text": [
      "Read data set from path data\\DataSet900.csv\n"
     ]
    }
   ],
   "source": [
    "data_1_path = Path(DATA_PATH+\"DataSet900.csv\")\n",
    "# data_2_path = Path(\"data/DataSet1000.csv\")\n",
    "# data_3_path = Path(\"data/DataSet100000.csv\")\n",
    "# data_4_path = Path(\"data/DataSet129600.csv\")\n",
    "\n",
    "data_1 = load_data(data_1_path)\n",
    "# data_2 = load_data(data_2_path)\n",
    "# data_3 = load_data(data_3_path)\n",
    "# data_4 = load_data(data_4_path)\n",
    "\n",
    "dataset = data_1"
   ]
  },
  {
   "cell_type": "code",
   "execution_count": 8,
   "metadata": {},
   "outputs": [],
   "source": [
    "lol = dataset[['parameter1', 'parameter2']]"
   ]
  },
  {
   "cell_type": "code",
   "execution_count": 9,
   "metadata": {},
   "outputs": [],
   "source": [
    "import torch\n",
    "import pickle\n",
    "from torch import nn\n",
    "from torch.utils.data import DataLoader, Dataset"
   ]
  },
  {
   "cell_type": "markdown",
   "metadata": {},
   "source": [
    "## Установить роботу с куда или на цп"
   ]
  },
  {
   "cell_type": "code",
   "execution_count": 10,
   "metadata": {},
   "outputs": [
    {
     "name": "stdout",
     "output_type": "stream",
     "text": [
      "Using cpu device\n"
     ]
    }
   ],
   "source": [
    "device = (\n",
    "    \"cuda\"\n",
    "    if torch.cuda.is_available()\n",
    "    else \"mps\"\n",
    "    if torch.backends.mps.is_available()\n",
    "    else \"cpu\"\n",
    ")\n",
    "print(f\"Using {device} device\")"
   ]
  },
  {
   "cell_type": "markdown",
   "metadata": {},
   "source": [
    "# Working with data"
   ]
  },
  {
   "cell_type": "code",
   "execution_count": 11,
   "metadata": {},
   "outputs": [],
   "source": [
    "import torch\n",
    "from torch.utils.data import Dataset\n",
    "\n",
    "class CustomDataset(Dataset):\n",
    "    def __init__(self, features, targets):\n",
    "        \"\"\"\n",
    "        Инициализация датасета.\n",
    "        :param features: Numpy массив или список списков с признаками.\n",
    "        :param targets: Numpy массив или список с целевыми значениями.\n",
    "        \"\"\"\n",
    "        self.features = features\n",
    "        self.targets = targets\n",
    "\n",
    "    def __len__(self):\n",
    "        return len(self.features)\n",
    "\n",
    "    def __getitem__(self, idx):\n",
    "        \"\"\"\n",
    "        Получение одного элемента датасета по индексу.\n",
    "        \"\"\"\n",
    "        return torch.tensor(self.features[idx], dtype=torch.float32), torch.tensor(self.targets[idx], dtype=torch.float32)\n",
    "    \n",
    "    def get_features_targets(self, idx):\n",
    "        return self.features[idx], self.targets[idx]\n"
   ]
  },
  {
   "cell_type": "markdown",
   "metadata": {},
   "source": [
    "# Model\n",
    "\n",
    "\n",
    "- layer_sizes - список, содержащий количество нейронов для каждого скрытого слоя.\n",
    "- activation_fn - функция активации для скрытых слоев. По умолчанию используется ReLU. Вы можете передать любую функцию активации из torch.nn.functional, такую как F.relu, F.tanh и т.д."
   ]
  },
  {
   "cell_type": "code",
   "execution_count": 12,
   "metadata": {},
   "outputs": [],
   "source": [
    "import torch.nn as nn\n",
    "import torch.nn.functional as F\n",
    "\n",
    "class RegressionModel(nn.Module):\n",
    "    def __init__(self, \n",
    "                 input_size, \n",
    "                 output_size,\n",
    "                 layer_sizes=[64], \n",
    "                 activation_fn=F.relu):\n",
    "        super(RegressionModel, self).__init__()\n",
    "        self.input_size = input_size\n",
    "        self.output_size = output_size\n",
    "        self.layer_sizes = layer_sizes\n",
    "        self.activation_fn = activation_fn\n",
    "        \n",
    "        self.layers = nn.ModuleList()\n",
    "        \n",
    "        # Создаем слои в соответствии с layer_sizes\n",
    "        prev_size = input_size\n",
    "        for size in layer_sizes:\n",
    "            self.layers.append(nn.Linear(prev_size, size))\n",
    "            prev_size = size\n",
    "        \n",
    "        # Добавляем выходной слой\n",
    "        self.layers.append(nn.Linear(prev_size, output_size))\n",
    "        self.activation_fn = activation_fn\n",
    "\n",
    "    def forward(self, x):\n",
    "        for layer in self.layers[:-1]:\n",
    "            x = self.activation_fn(layer(x))\n",
    "        # Для выходного слоя не применяем функцию активации\n",
    "        x = self.layers[-1](x)\n",
    "        return x\n"
   ]
  },
  {
   "cell_type": "markdown",
   "metadata": {},
   "source": [
    "# Trainer"
   ]
  },
  {
   "cell_type": "code",
   "execution_count": 13,
   "metadata": {},
   "outputs": [],
   "source": [
    "from typing import Dict\n",
    "\n",
    "import numpy as np\n",
    "import matplotlib.pyplot as plt\n",
    "import torch\n",
    "from tqdm.notebook import tqdm\n",
    "\n",
    "\n",
    "class Trainer:\n",
    "    def __init__(self, \n",
    "                 model: RegressionModel, \n",
    "                 criterion=None, \n",
    "                 optimizer=None, \n",
    "                 device='cpu',\n",
    "                 print_every=None,\n",
    "                 verbose=False):\n",
    "        \n",
    "        self.model = model\n",
    "        self.criterion = criterion if criterion else torch.nn.MSELoss()\n",
    "        self.optimizer = optimizer if optimizer else torch.optim.Adam(model.parameters(), lr=0.001)\n",
    "        self.print_every = print_every\n",
    "        self.device = device\n",
    "        self.verbose = verbose\n",
    "                \n",
    "        self.loss_values = []\n",
    "        self.mae_values = []  # Для средней абсолютной ошибки на тренировочных данных\n",
    "        self.val_loss_values = []\n",
    "        self.val_mae_values = []  # Для средней абсолютной ошибки на валидационных данных\n",
    "\n",
    "    def _train(self, train_dataloader: DataLoader):\n",
    "        self.model.train()\n",
    "        epoch_losses = []\n",
    "        epoch_maes = []\n",
    "            \n",
    "        for inputs, targets in train_dataloader:\n",
    "            outputs = self.model(inputs)\n",
    "            loss = self.criterion(outputs, targets)\n",
    "            self.optimizer.zero_grad()\n",
    "            loss.backward()\n",
    "            self.optimizer.step()\n",
    "\n",
    "            epoch_losses.append(loss.item())\n",
    "            epoch_maes.append(torch.abs(outputs - targets).mean().item())\n",
    "\n",
    "        epoch_loss = np.mean(epoch_losses)\n",
    "        epoch_mae = np.mean(epoch_maes)\n",
    "        self.loss_values.append(epoch_loss)\n",
    "        self.mae_values.append(epoch_mae)\n",
    "                        \n",
    "        return epoch_loss, epoch_mae\n",
    "                \n",
    "    def _eval(self, val_dataloader: DataLoader):\n",
    "        self.model.eval()\n",
    "        val_losses = []\n",
    "        val_maes = []\n",
    "        \n",
    "        with torch.no_grad():\n",
    "            for inputs, targets in val_dataloader:\n",
    "                outputs = self.model(inputs)\n",
    "                loss = self.criterion(outputs, targets)\n",
    "                \n",
    "                val_losses.append(loss.item())\n",
    "                val_maes.append(torch.abs(outputs - targets).mean().item())\n",
    "                \n",
    "        # Сохранение и печать результатов\n",
    "        val_epoch_loss = np.mean(val_losses)\n",
    "        val_epoch_mae = np.mean(val_maes)\n",
    "        self.val_loss_values.append(val_epoch_loss)\n",
    "        self.val_mae_values.append(val_epoch_mae)\n",
    "    \n",
    "        return val_epoch_loss, val_epoch_mae\n",
    "    \n",
    "    def  fit(self, n_epochs, train_dataloader, val_dataloader):\n",
    "        for epoch in range(n_epochs):\n",
    "            \n",
    "            # if self.verbose:\n",
    "            #     train_dataloader = tqdm(train_dataloader)\n",
    "            #     val_dataloader = tqdm(val_dataloader)\n",
    "                \n",
    "            epoch_loss, epoch_mae = self._train(train_dataloader)\n",
    "            val_epoch_loss, val_epoch_mae = self._eval(val_dataloader)   \n",
    "                 \n",
    "            if self.print_every and (epoch + 1) % self.print_every == 0:\n",
    "                print(f'Epoch {epoch+1}, Loss: {epoch_loss:.4f}, MAE: {epoch_mae:.4f}, Val Loss: {val_epoch_loss:.4f}, Val MAE: {val_epoch_mae:.4f}')\n",
    "                # if self.verbose:\n",
    "                #     val_dataloader.set_description(f\"Loss={val_epoch_loss:.4}; MAE:{val_epoch_mae:.4}\")\n",
    "                #     train_dataloader.set_description(f\"Loss={epoch_loss:.4}; MAE:{epoch_mae:.4}\")\n",
    "        return val_epoch_loss, val_epoch_mae\n",
    "    \n",
    "    def _init_verbose(self, epoch, train_dataloader, val_dataloader):\n",
    "        if self.print_every and (epoch + 1) % self.print_every == 0:\n",
    "                if self.verbose:\n",
    "                    train_dataloader = tqdm(train_dataloader)\n",
    "                    val_dataloader = tqdm(val_dataloader)\n",
    "        pass\n",
    "    \n",
    "    def _verbose(self):\n",
    "        \n",
    "        pass\n",
    "\n",
    "    def plot_metrics(self):\n",
    "        epochs_range = range(1, len(self.loss_values) + 1)\n",
    "        fig = plt.figure(figsize=(15, 6))  # Устанавливаем размер фигуры\n",
    "        \n",
    "        # График потерь\n",
    "        ax1 = plt.subplot(1, 2, 1)\n",
    "        ax1.plot(epochs_range, self.loss_values, label='Training Loss', color='tab:red')\n",
    "        ax1.plot(epochs_range, self.val_loss_values, label='Validation Loss', color='tab:blue')\n",
    "        ax1.set_xlabel('Epoch')\n",
    "        ax1.set_ylabel('Loss', color='tab:red')\n",
    "        ax1.tick_params(axis='y', labelcolor='tab:red')\n",
    "        ax1.grid(True, which='both', linestyle='--', linewidth=0.5)\n",
    "        ax1.legend(loc='upper left')\n",
    "\n",
    "        # График MAE\n",
    "        ax2 = plt.subplot(1, 2, 2)\n",
    "        ax2.plot(epochs_range, self.mae_values, label='Training MAE', color='tab:green')\n",
    "        ax2.plot(epochs_range, self.val_mae_values, label='Validation MAE', color='tab:orange')\n",
    "        ax2.set_xlabel('Epoch')\n",
    "        ax2.set_ylabel('MAE', color='tab:green')\n",
    "        ax2.tick_params(axis='y', labelcolor='tab:green')\n",
    "        ax2.grid(True, which='both', linestyle='--', linewidth=0.5)\n",
    "        ax2.legend(loc='upper left')        \n",
    "        \n",
    "        plt.suptitle('Training Loss and MAE')  # Добавляем общий заголовок для всей фигуры\n",
    "        plt.tight_layout(rect=[0, 0.03, 1, 0.95])  # Настраиваем layout с учетом общего заголовка\n",
    "        fig.tight_layout()  # Убедимся, что макет не нарушен\n",
    "        save_fig(\"MAE_metrics\")  # extra code\n",
    "        save_fig('MAE_metrics')\n",
    "        plt.show()\n",
    "        \n",
    "    def predict(self, inputs):\n",
    "        if not self.model:\n",
    "            raise RuntimeError(\"You should train the model first\")\n",
    "        self.model.eval()\n",
    "        with torch.no_grad():\n",
    "            inputs = torch.tensor(inputs, dtype=torch.float32)\n",
    "            outputs = self.model(inputs)\n",
    "            return outputs.numpy()\n",
    "        \n",
    "    def save_model(self, path):\n",
    "        if self.model is None:\n",
    "            raise RuntimeError(\"You should train the model first\")\n",
    "        checkpoint = {\n",
    "            \"model_state_dict\": self.model.state_dict(),\n",
    "            \"model_config\": {\n",
    "                'input_size': self.model.input_size,\n",
    "                'output_size': self.model.output_size,\n",
    "                'layer_sizes': self.model.layer_sizes,\n",
    "                'activation_fn': self.model.activation_fn,\n",
    "            },\n",
    "            \"trainer_config\": {\n",
    "                'criterion': self.criterion,\n",
    "                'optimizer': self.optimizer,\n",
    "                'device': self.device,\n",
    "                'print_every': self.print_every,\n",
    "            },\n",
    "        }\n",
    "        torch.save(checkpoint, path)\n",
    "\n",
    "    @classmethod\n",
    "    def load_model(cls, path: str):\n",
    "        ckpt = torch.load(path)\n",
    "        keys = [\"model_state_dict\", \"model_config\", \"trainer_config\"]\n",
    "        for key in keys:\n",
    "            if key not in ckpt:\n",
    "                raise RuntimeError(f\"Missing key {key} in checkpoint\")\n",
    "        new_model = RegressionModel(\n",
    "            **ckpt[\"model_config\"]\n",
    "        )\n",
    "        new_model.load_state_dict(ckpt[\"model_state_dict\"])\n",
    "        new_trainer = cls(new_model, **ckpt[\"trainer_config\"])\n",
    "        new_trainer.model = new_model\n",
    "        new_trainer.model.to(new_trainer.device)\n",
    "        return new_trainer\n"
   ]
  },
  {
   "cell_type": "markdown",
   "metadata": {},
   "source": [
    "# TrainingManager"
   ]
  },
  {
   "cell_type": "code",
   "execution_count": 14,
   "metadata": {},
   "outputs": [],
   "source": [
    "import pickle\n",
    "\n",
    "from sklearn.model_selection import train_test_split\n",
    "from sklearn.preprocessing import StandardScaler\n",
    "\n",
    "import torch\n",
    "from torch.utils.data import DataLoader\n",
    "import torch.optim as optim\n",
    "\n",
    "class TrainingManager:\n",
    "    def __init__(self, \n",
    "                 features: list[str], \n",
    "                 targets: list[str],\n",
    "                 dataset: pd.DataFrame,\n",
    "                 model_params: dict={}, \n",
    "                 train_params: dict={},\n",
    "                 other_params: dict={}):\n",
    "        \"\"\"\n",
    "        Инициализация менеджера обучения.        \n",
    "        :param features: Признаки для обучения модели.\n",
    "        :param targets: Целевые значения.\n",
    "        :param model_params: Параметры модели, включая размеры слоёв и функцию активации.\n",
    "        :param train_params: Параметры обучения, включая размер батча, количество эпох и скорость обучения.\n",
    "        \"\"\"\n",
    "        self.uniq_name = '_'.join(features + targets)\n",
    "        self.data_path = DATA_PATH      \n",
    "        \n",
    "        self.features = features\n",
    "        self.targets = targets\n",
    "        self.dataset = dataset\n",
    "        \n",
    "        self.model_params = model_params\n",
    "        self.train_params = train_params\n",
    "        self.other_params  = other_params\n",
    "        \n",
    "         \n",
    "    def _pred_job(self, dataset):\n",
    "        # Инициализация StandardScaler\n",
    "        self.scaler_features = StandardScaler()\n",
    "        self.scaler_targets = StandardScaler()\n",
    "        \n",
    "        # Обучение масштабировщика и трансформация признаков и целевой переменной\n",
    "        scaled_features = self.scaler_features.fit_transform(\n",
    "            dataset[self.features]\n",
    "        )\n",
    "        scaled_targets = self.scaler_targets.fit_transform(\n",
    "            dataset[self.targets]\n",
    "        )\n",
    "        \n",
    "        X_train, X_test, y_train, y_test = train_test_split(\n",
    "            scaled_features, \n",
    "            scaled_targets, \n",
    "            test_size=self.other_params.get('test_size', 0.8), \n",
    "            random_state=self.other_params.get('seed', 30), \n",
    "            shuffle=self.other_params.get('shuffle', False))        \n",
    "        \n",
    "        self.train_dataset = CustomDataset(X_train, y_train)\n",
    "        self.test_dataset = CustomDataset(X_test, y_test)\n",
    "        \n",
    "        model = RegressionModel(\n",
    "            input_size=len(self.features),\n",
    "            output_size=len(self.targets),\n",
    "            **self.model_params\n",
    "        )        \n",
    "        optimizer = optim.Adam(model.parameters(), lr=self.train_params.get('learning_rate', 0.001))\n",
    "        criterion=torch.nn.MSELoss()\n",
    "        print_every=self.train_params.get('print_every', None)\n",
    "        \n",
    "        self.trainer = Trainer(\n",
    "            model=model,\n",
    "            criterion=criterion,\n",
    "            optimizer=optimizer,\n",
    "            # device='cpu',\n",
    "            print_every=print_every\n",
    "        )   \n",
    "    \n",
    "    def fit(self):\n",
    "        \"\"\"\n",
    "        Запуск процесса обучения.\n",
    "        \"\"\"\n",
    "        self._pred_job(self.dataset)\n",
    "        \n",
    "        batch_size = self.train_params.get('batch_size', 64)\n",
    "        n_epochs = self.train_params.get('n_epochs', 10)\n",
    "        \n",
    "        train_dataloader = DataLoader(self.train_dataset, batch_size=batch_size, shuffle=True)\n",
    "        val_dataloader = DataLoader(self.test_dataset, batch_size=batch_size, shuffle=False)\n",
    "        \n",
    "        self.trainer.fit(n_epochs, train_dataloader, val_dataloader)\n",
    "        self.trainer.plot_metrics()\n",
    "\n",
    "    def predict(self, input, transform=True):\n",
    "        \"\"\"\n",
    "        Выполнение предсказаний с помощью обученной модели.\n",
    "        \"\"\"\n",
    "        features = input\n",
    "        if transform:\n",
    "            features = self.scaler_features.transform(input)\n",
    "        else:\n",
    "            features = input\n",
    "        scaled_predictions = self.trainer.predict(features)\n",
    "        return self.scaler_targets.inverse_transform(scaled_predictions)\n",
    "\n",
    "    def save(self):\n",
    "        self._save_model()\n",
    "        self._save_standard_scalar()\n",
    " \n",
    "    def load(self):\n",
    "        self._load_model()\n",
    "        self._load_standard_scalar()\n",
    "    \n",
    "    def _save_model(self):\n",
    "        \"\"\"\n",
    "        Сохранение обученной модели.        \n",
    "        \"\"\"\n",
    "        self.trainer.save_model(self.data_path+self.uniq_name+'_model_weight.pth')\n",
    "        \n",
    "    def _load_model(self):\n",
    "        \"\"\"\n",
    "        Загрузка обученной модели.        \n",
    "        \"\"\"\n",
    "        self.trainer = Trainer.load_model(self.data_path+self.uniq_name+'_model_weight.pth')\n",
    "        \n",
    "    def _save_standard_scalar(self):\n",
    "        with open(self.data_path+self.uniq_name+'_scaler_features.pkl', 'wb') as file: \n",
    "            pickle.dump(self.scaler_features, file)\n",
    "        with open(self.data_path+self.uniq_name+'_scaler_targets.pkl', 'wb') as file: \n",
    "            pickle.dump(self.scaler_targets, file)\n",
    "        \n",
    "    def _load_standard_scalar(self):\n",
    "        with open(self.data_path+self.uniq_name+'_scaler_features.pkl', 'rb') as file: \n",
    "            self.scaler_features = pickle.load(file)\n",
    "        with open(self.data_path+self.uniq_name+'_scaler_targets.pkl', 'rb') as file: \n",
    "            self.scaler_targets = pickle.load(file)\n"
   ]
  },
  {
   "cell_type": "markdown",
   "metadata": {},
   "source": [
    "# Optimizing the Model Parameters"
   ]
  },
  {
   "cell_type": "code",
   "execution_count": 15,
   "metadata": {},
   "outputs": [],
   "source": [
    "model_params = {\n",
    "    'layer_sizes': [100],\n",
    "    'activation_fn': torch.nn.ReLU(),\n",
    "}\n",
    "\n",
    "train_params = {\n",
    "    'batch_size': 32,\n",
    "    'n_epochs': 100,\n",
    "    'learning_rate': 0.001,\n",
    "    'print_every': 10\n",
    "}\n",
    "            \n",
    "other_params = {\n",
    "    'test_size': 0.9,\n",
    "    'shuffle': True,\n",
    "    'seed':  SEED\n",
    "}"
   ]
  },
  {
   "cell_type": "code",
   "execution_count": 16,
   "metadata": {},
   "outputs": [
    {
     "name": "stdout",
     "output_type": "stream",
     "text": [
      "Epoch 10, Loss: 0.3314, MAE: 0.4415, Val Loss: 0.3425, Val MAE: 0.4652\n",
      "Epoch 20, Loss: 0.1112, MAE: 0.2492, Val Loss: 0.1217, Val MAE: 0.2651\n",
      "Epoch 30, Loss: 0.0442, MAE: 0.1489, Val Loss: 0.0519, Val MAE: 0.1587\n",
      "Epoch 40, Loss: 0.0211, MAE: 0.1075, Val Loss: 0.0250, Val MAE: 0.1136\n",
      "Epoch 50, Loss: 0.0114, MAE: 0.0795, Val Loss: 0.0130, Val MAE: 0.0796\n",
      "Epoch 60, Loss: 0.0065, MAE: 0.0578, Val Loss: 0.0077, Val MAE: 0.0596\n",
      "Epoch 70, Loss: 0.0044, MAE: 0.0468, Val Loss: 0.0054, Val MAE: 0.0502\n",
      "Epoch 80, Loss: 0.0035, MAE: 0.0412, Val Loss: 0.0043, Val MAE: 0.0454\n",
      "Epoch 90, Loss: 0.0029, MAE: 0.0371, Val Loss: 0.0037, Val MAE: 0.0421\n",
      "Epoch 100, Loss: 0.0025, MAE: 0.0346, Val Loss: 0.0032, Val MAE: 0.0397\n"
     ]
    },
    {
     "data": {
      "image/png": "[encoded data removed]",
      "text/plain": [
       "<Figure size 1500x600 with 2 Axes>"
      ]
     },
     "metadata": {},
     "output_type": "display_data"
    }
   ],
   "source": [
    "training_manager = TrainingManager(\n",
    "    dataset=dataset,\n",
    "    features=['parameter1', 'parameter2', 'constraint1', 'constraint2'],\n",
    "    targets=['criteria1', 'criteria2'],\n",
    "    model_params=model_params,\n",
    "    train_params=train_params,    \n",
    "    other_params=other_params\n",
    ")\n",
    "\n",
    "training_manager.fit()"
   ]
  },
  {
   "cell_type": "markdown",
   "metadata": {},
   "source": [
    "# Тестирование"
   ]
  },
  {
   "cell_type": "code",
   "execution_count": 17,
   "metadata": {},
   "outputs": [],
   "source": [
    "feature, label = training_manager.test_dataset.get_features_targets([2])"
   ]
  },
  {
   "cell_type": "code",
   "execution_count": 18,
   "metadata": {},
   "outputs": [
    {
     "data": {
      "text/plain": [
       "array([[19., 40.,  0.,  1.]])"
      ]
     },
     "execution_count": 18,
     "metadata": {},
     "output_type": "execute_result"
    }
   ],
   "source": [
    "transform_feature = training_manager.scaler_features.inverse_transform(feature)\n",
    "transform_feature"
   ]
  },
  {
   "cell_type": "code",
   "execution_count": 19,
   "metadata": {},
   "outputs": [
    {
     "data": {
      "text/plain": [
       "array([[  59.  , 3892.43]])"
      ]
     },
     "execution_count": 19,
     "metadata": {},
     "output_type": "execute_result"
    }
   ],
   "source": [
    "inverse_label = training_manager.scaler_targets.inverse_transform(label)\n",
    "inverse_label"
   ]
  },
  {
   "cell_type": "code",
   "execution_count": 20,
   "metadata": {},
   "outputs": [
    {
     "name": "stderr",
     "output_type": "stream",
     "text": [
      "d:\\Projects\\NLP_course\\.venv\\lib\\site-packages\\sklearn\\base.py:493: UserWarning: X does not have valid feature names, but StandardScaler was fitted with feature names\n",
      "  warnings.warn(\n"
     ]
    },
    {
     "data": {
      "text/plain": [
       "array([[  58.718655, 3203.8848  ]], dtype=float32)"
      ]
     },
     "execution_count": 20,
     "metadata": {},
     "output_type": "execute_result"
    }
   ],
   "source": [
    "training_manager.predict(transform_feature)"
   ]
  },
  {
   "cell_type": "code",
   "execution_count": 21,
   "metadata": {},
   "outputs": [],
   "source": [
    "training_manager.save()\n"
   ]
  },
  {
   "cell_type": "code",
   "execution_count": 22,
   "metadata": {},
   "outputs": [],
   "source": [
    "new_training_manager = TrainingManager(\n",
    "    dataset=dataset,\n",
    "    features=['parameter1', 'parameter2', 'constraint1', 'constraint2'],\n",
    "    targets=['criteria1', 'criteria2'],\n",
    "    model_params=model_params,\n",
    "    train_params=train_params,    \n",
    "    other_params=other_params    \n",
    ")"
   ]
  },
  {
   "cell_type": "code",
   "execution_count": 23,
   "metadata": {},
   "outputs": [],
   "source": [
    "new_training_manager.load()\n"
   ]
  },
  {
   "cell_type": "code",
   "execution_count": 24,
   "metadata": {},
   "outputs": [
    {
     "name": "stderr",
     "output_type": "stream",
     "text": [
      "d:\\Projects\\NLP_course\\.venv\\lib\\site-packages\\sklearn\\base.py:493: UserWarning: X does not have valid feature names, but StandardScaler was fitted with feature names\n",
      "  warnings.warn(\n"
     ]
    },
    {
     "data": {
      "text/plain": [
       "array([[  58.718655, 3203.8848  ]], dtype=float32)"
      ]
     },
     "execution_count": 24,
     "metadata": {},
     "output_type": "execute_result"
    }
   ],
   "source": [
    "new_training_manager.predict(transform_feature)"
   ]
  }
 ],
 "metadata": {
  "kernelspec": {
   "display_name": ".venv",
   "language": "python",
   "name": "python3"
  },
  "language_info": {
   "codemirror_mode": {
    "name": "ipython",
    "version": 3
   },
   "file_extension": ".py",
   "mimetype": "text/x-python",
   "name": "python",
   "nbconvert_exporter": "python",
   "pygments_lexer": "ipython3",
   "version": "3.10.11"
  }
 },
 "nbformat": 4,
 "nbformat_minor": 2
}

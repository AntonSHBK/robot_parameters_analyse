{
 "cells": [
  {
   "cell_type": "markdown",
   "metadata": {},
   "source": [
    "# Импорты"
   ]
  },
  {
   "cell_type": "code",
   "execution_count": 51,
   "metadata": {},
   "outputs": [],
   "source": [
    "import pandas as pd\n",
    "import numpy as np\n",
    "from pathlib import Path"
   ]
  },
  {
   "cell_type": "markdown",
   "metadata": {},
   "source": [
    "## Дефолтные настройки Matplotlib"
   ]
  },
  {
   "cell_type": "code",
   "execution_count": 52,
   "metadata": {},
   "outputs": [],
   "source": [
    "import matplotlib.pyplot as plt\n",
    "\n",
    "# устанавливаем дефолтные размеры шрифтов\n",
    "plt.rc('font', size=14)\n",
    "plt.rc('axes', labelsize=14, titlesize=14)\n",
    "plt.rc('legend', fontsize=14)\n",
    "plt.rc('xtick', labelsize=10)\n",
    "plt.rc('ytick', labelsize=10)"
   ]
  },
  {
   "cell_type": "code",
   "execution_count": 53,
   "metadata": {},
   "outputs": [],
   "source": [
    "convert_type_dict = {'parameter1': float,\n",
    "                    'parameter2': float,\n",
    "                    'criteria1': float,\n",
    "                    'criteria2': float,\n",
    "                    'constraint1': bool,\n",
    "                    'constraint2': bool,\n",
    "                    }"
   ]
  },
  {
   "cell_type": "markdown",
   "metadata": {},
   "source": [
    "Загрузка датасета"
   ]
  },
  {
   "cell_type": "code",
   "execution_count": 54,
   "metadata": {},
   "outputs": [],
   "source": [
    "def load_data(path: Path):\n",
    "    print(\"Read data set from path {path}\".format(path=path))\n",
    "    df = pd.read_csv(path).astype(convert_type_dict)\n",
    "    return df"
   ]
  },
  {
   "cell_type": "markdown",
   "metadata": {},
   "source": [
    "Непосредственно загрузка"
   ]
  },
  {
   "cell_type": "code",
   "execution_count": 55,
   "metadata": {},
   "outputs": [
    {
     "name": "stdout",
     "output_type": "stream",
     "text": [
      "Read data set from path data\\DataSet900.csv\n",
      "Read data set from path data\\DataSet1000.csv\n",
      "Read data set from path data\\DataSet100000.csv\n",
      "Read data set from path data\\DataSet129600.csv\n"
     ]
    }
   ],
   "source": [
    "data_1_path = Path(\"data/DataSet900.csv\")\n",
    "data_2_path = Path(\"data/DataSet1000.csv\")\n",
    "data_3_path = Path(\"data/DataSet100000.csv\")\n",
    "data_4_path = Path(\"data/DataSet129600.csv\")\n",
    "\n",
    "data_1 = load_data(data_1_path)\n",
    "data_2 = load_data(data_2_path)\n",
    "data_3 = load_data(data_3_path)\n",
    "data_4 = load_data(data_4_path)\n",
    "\n",
    "dataset = data_1"
   ]
  },
  {
   "cell_type": "markdown",
   "metadata": {},
   "source": [
    "Шапка датасета, первые 5 записей  набора данных."
   ]
  },
  {
   "cell_type": "markdown",
   "metadata": {},
   "source": [
    "Код описывающий сохранение графиков и рисунков"
   ]
  },
  {
   "cell_type": "code",
   "execution_count": 56,
   "metadata": {},
   "outputs": [],
   "source": [
    "IMAGES_PATH = Path() / \"imgs\"\n",
    "IMAGES_PATH.mkdir(parents=True, exist_ok=True)\n",
    "\n",
    "def save_fig(fig_id, tight_layout=True, fig_extension=\"png\", resolution=300):\n",
    "    path = IMAGES_PATH / f\"{fig_id}.{fig_extension}\"\n",
    "    if tight_layout:\n",
    "        plt.tight_layout()\n",
    "    plt.savefig(path, format=fig_extension, dpi=resolution)"
   ]
  },
  {
   "cell_type": "markdown",
   "metadata": {},
   "source": [
    "Устанавливаем параметр рандомизации (что бы значения повторялись при запуске)"
   ]
  },
  {
   "cell_type": "code",
   "execution_count": 57,
   "metadata": {},
   "outputs": [],
   "source": [
    "np.random.seed(30)"
   ]
  },
  {
   "cell_type": "markdown",
   "metadata": {},
   "source": [
    "Новый критерий сильно коррелирует с нашим параметром"
   ]
  },
  {
   "cell_type": "code",
   "execution_count": 58,
   "metadata": {},
   "outputs": [],
   "source": [
    "import torch\n",
    "from typing import List\n",
    "import pickle\n",
    "from torch import nn\n",
    "from torch.utils.data import DataLoader, Dataset"
   ]
  },
  {
   "cell_type": "markdown",
   "metadata": {},
   "source": [
    "## Установить роботу с куда или нна цп"
   ]
  },
  {
   "cell_type": "code",
   "execution_count": 59,
   "metadata": {},
   "outputs": [
    {
     "name": "stdout",
     "output_type": "stream",
     "text": [
      "Using cpu device\n"
     ]
    }
   ],
   "source": [
    "device = (\n",
    "    \"cuda\"\n",
    "    if torch.cuda.is_available()\n",
    "    else \"mps\"\n",
    "    if torch.backends.mps.is_available()\n",
    "    else \"cpu\"\n",
    ")\n",
    "print(f\"Using {device} device\")"
   ]
  },
  {
   "cell_type": "markdown",
   "metadata": {},
   "source": [
    "# Working with data"
   ]
  },
  {
   "cell_type": "code",
   "execution_count": 60,
   "metadata": {},
   "outputs": [],
   "source": [
    "class MyDataset(Dataset):\n",
    "    '''\n",
    "    Dataset:\n",
    "    '''\n",
    "    def __init__(self, \n",
    "                 data:pd.DataFrame,\n",
    "                 input_colums: List[str],\n",
    "                 output_colums: List[str]) -> None:\n",
    "        self.input_colums = input_colums\n",
    "        self.output_colums = output_colums\n",
    "        \n",
    "        x = data[self.input_colums].values\n",
    "        y = data[self.output_colums].values\n",
    "        \n",
    "        self.x_train = torch.tensor(x, dtype=torch.float32)\n",
    "        self.y_train = torch.tensor(y, dtype=torch.float32)      \n",
    "        \n",
    "    def __len__(self):\n",
    "        return len(self.y_train)\n",
    "    \n",
    "    def __getitem__(self, index):\n",
    "        return self.x_train[index], self.y_train[index]    "
   ]
  },
  {
   "cell_type": "markdown",
   "metadata": {},
   "source": [
    "# Creating Models"
   ]
  },
  {
   "cell_type": "code",
   "execution_count": 61,
   "metadata": {},
   "outputs": [
    {
     "name": "stdout",
     "output_type": "stream",
     "text": [
      "NeuralNetwork(\n",
      "  (linear_relu_stack): Sequential(\n",
      "    (0): Linear(in_features=2, out_features=128, bias=True)\n",
      "    (1): ReLU()\n",
      "    (2): Linear(in_features=128, out_features=128, bias=True)\n",
      "    (3): ReLU()\n",
      "    (4): Linear(in_features=128, out_features=128, bias=True)\n",
      "    (5): ReLU()\n",
      "    (6): Linear(in_features=128, out_features=2, bias=True)\n",
      "  )\n",
      ")\n"
     ]
    }
   ],
   "source": [
    "\n",
    "class NeuralNetwork(nn.Module):\n",
    "    '''\n",
    "    Define neural network model:\n",
    "    '''\n",
    "    def __init__(self, inputs, outputs, middle_layers=128):\n",
    "        super(NeuralNetwork, self).__init__()\n",
    "        self.linear_relu_stack = nn.Sequential(            \n",
    "            nn.Linear(inputs, middle_layers),\n",
    "            nn.ReLU(),\n",
    "            nn.Linear(middle_layers, middle_layers),\n",
    "            nn.ReLU(),\n",
    "            nn.Linear(middle_layers, middle_layers),\n",
    "            nn.ReLU(),\n",
    "            nn.Linear(middle_layers, outputs)\n",
    "        )\n",
    "\n",
    "    def forward(self, x: torch.Tensor):\n",
    "        logits = self.linear_relu_stack(x)\n",
    "        return logits\n",
    "\n",
    "test = NeuralNetwork(2,2).to(device)\n",
    "print(test)"
   ]
  },
  {
   "cell_type": "markdown",
   "metadata": {},
   "source": []
  },
  {
   "cell_type": "markdown",
   "metadata": {},
   "source": [
    "# Optimizing the Model Parameters"
   ]
  },
  {
   "cell_type": "code",
   "execution_count": 62,
   "metadata": {},
   "outputs": [],
   "source": [
    "# from numpy import mean\n",
    "# from sympy import prime\n",
    "from torch.nn import MSELoss\n",
    "from torch.optim import SGD\n",
    "\n",
    "from sklearn.model_selection import train_test_split\n",
    "\n",
    "\n",
    "class Trainer():\n",
    "    '''\n",
    "    Trainer:\n",
    "    '''\n",
    "    def __init__(self,\n",
    "                 data:pd.DataFrame,\n",
    "                 input_colums:List[str],\n",
    "                 output_colums:List[str],\n",
    "                 batch_size=32,\n",
    "                 learning_rate=0.005,\n",
    "                 shuffle=False,\n",
    "                 test_size=0.2,\n",
    "                 random_state=None,\n",
    "                 save_path='saved_model/',\n",
    "                 model_middle_layers=512):\n",
    "        \n",
    "        self.save_path = save_path\n",
    "        \n",
    "        self.input_colums = input_colums\n",
    "        self.output_colums = output_colums\n",
    "        \n",
    "        self.uniq_name = '_'.join(input_colums + output_colums)\n",
    "        \n",
    "        self.data = data.copy()\n",
    "        self.normalize_param = self._normalize_data(self.data, input_colums+output_colums)\n",
    "        with open(save_path+self.uniq_name+'_normalize_params.pkl', 'wb') as file: \n",
    "            pickle.dump(self.normalize_param, file)\n",
    "\n",
    "        train_set, test_set = train_test_split(self.data, test_size=test_size, random_state=random_state)\n",
    "                \n",
    "        self.train_dataloader = DataLoader(\n",
    "            MyDataset(train_set, input_colums, output_colums),\n",
    "            batch_size=batch_size,\n",
    "            shuffle=shuffle\n",
    "        )\n",
    "        self.test_dataloader = DataLoader(\n",
    "            MyDataset(test_set, input_colums, output_colums),\n",
    "            batch_size=batch_size,\n",
    "            shuffle=False\n",
    "        )\n",
    "        \n",
    "        self.model = NeuralNetwork(\n",
    "            inputs=len(input_colums),\n",
    "            outputs=len(output_colums),\n",
    "            middle_layers=model_middle_layers\n",
    "        ).to(device)\n",
    "        \n",
    "        self.loss_func = MSELoss()\n",
    "        self.optimizer = SGD(self.model.parameters(), lr=learning_rate)  \n",
    "        \n",
    "        self.validate_loss_list = []     \n",
    "        self.train_loss_list = []\n",
    "    \n",
    "    def train(self):\n",
    "        size = len(self.train_dataloader.dataset)\n",
    "        self.model.train()\n",
    "        train_loss = 0.\n",
    "        for batch, (X, y) in enumerate(self.train_dataloader):\n",
    "            X, y = X.to(device), y.to(device)\n",
    "\n",
    "            # Compute prediction error\n",
    "            pred = self.model(X)\n",
    "            loss: torch.Tensor = self.loss_func(pred, y)\n",
    "\n",
    "            # Backpropagation\n",
    "            loss.backward()\n",
    "            self.optimizer.step()\n",
    "            self.optimizer.zero_grad()\n",
    "            train_loss += loss.item()\n",
    "        \n",
    "        avg_loss = train_loss/len(self.train_dataloader)\n",
    "        self.train_loss_list.append(avg_loss)\n",
    "        return avg_loss\n",
    "                \n",
    "    def validate(self):\n",
    "        self.model.eval()\n",
    "        val_loss_sum = 0\n",
    "        with torch.no_grad():\n",
    "            for X, y in self.test_dataloader:\n",
    "                X, y = X.to(device), y.to(device)\n",
    "                pred = self.model(X)\n",
    "                val_loss_sum += self.loss_func(pred, y).item()\n",
    "        avg_loss = val_loss_sum/len(self.test_dataloader)\n",
    "        self.validate_loss_list.append(avg_loss)\n",
    "        return avg_loss        \n",
    "        \n",
    "    def run(self,  epochs=10):\n",
    "        for t in range(epochs):\n",
    "            train_avg_loss = self.train()\n",
    "            \n",
    "            val_avg_loss = self.validate()\n",
    "            counter_1 = epochs / 5\n",
    "            if t % counter_1 == 0:\n",
    "                print(f'Epoch [{t + 1:03}/{epochs:03}] | Train Loss: {train_avg_loss:.6f}')\n",
    "                print(f\"Validation AVG Loss: {val_avg_loss:>12f} \\n\")\n",
    "            \n",
    "        print(\"Done!\")\n",
    "    \n",
    "    def predict(self, input: np.array):\n",
    "        input = input.astype(float)\n",
    "        print('Входные данные:', input)\n",
    "        for index, item in enumerate(self.input_colums):\n",
    "            input[index] = 2 * ((input[index] - self.normalize_param[item]['min']) /\\\n",
    "                (self.normalize_param[item]['max'] - self.normalize_param[item]['min'])) -1\n",
    "        print('Нормализованные:', input)\n",
    "        pred:torch.Tensor = self.model(torch.tensor(input, dtype=torch.float32))        \n",
    "        pred = pred.detach().numpy()\n",
    "        print('Вывод модели:', pred)\n",
    "        for index, item in enumerate(self.output_colums):\n",
    "            pred[index] = (1 + pred[index]) / 2 * \\\n",
    "                (self.normalize_param[item]['max'] - self.normalize_param[item]['min']) +\\\n",
    "                    self.normalize_param[item]['min']\n",
    "        print('Денормализованные данные:', pred)\n",
    "        return pred  \n",
    "    \n",
    "    def _normalize(self,\n",
    "                   data: pd.DataFrame,\n",
    "                   colum: str) -> torch.Tensor:\n",
    "        max_val = data[colum].max()\n",
    "        min_val = data[colum].min()\n",
    "        data[colum] = 2 * ((data[colum] - min_val) / (max_val - min_val)) -1\n",
    "        return {'max': max_val, 'min': min_val}\n",
    "    \n",
    "    def save_model(self):\n",
    "        torch.save(self.model, self.save_path+self.uniq_name+'_model_weights.pth')       \n",
    "    \n",
    "    def _normalize_data(self, data, colums):\n",
    "        params = {}\n",
    "        for colum in colums:\n",
    "            params[colum] = self._normalize(data, colum)\n",
    "        return params\n",
    "    \n",
    "    def _denormalize(self, tensor, mean, std) -> torch.Tensor:\n",
    "        return tensor * std\n",
    "    \n",
    "    def plot_train_result(self):\n",
    "        plt.plot(range(len(self.train_loss_list)), self.train_loss_list, self.validate_loss_list)"
   ]
  },
  {
   "cell_type": "code",
   "execution_count": 63,
   "metadata": {},
   "outputs": [],
   "source": [
    "from torchviz import make_dot\n",
    "from torch.utils.tensorboard import SummaryWriter\n",
    "\n",
    "class LoadModel():\n",
    "    def __init__(self, model_path, normalize_params_path, input_colums, output_colums) -> None:\n",
    "        self.input_colums = input_colums\n",
    "        self.output_colums = output_colums\n",
    "        self._model_path = model_path\n",
    "        with open(normalize_params_path, 'rb') as file: \n",
    "            self.normalize_param = pickle.load(file)\n",
    "        self.model = torch.load(model_path)\n",
    "        self.model.eval()\n",
    "    \n",
    "    def predict(self, input):\n",
    "        input = input.astype(float)\n",
    "        print('Входные данные:', input)\n",
    "        for index, item in enumerate(self.input_colums):\n",
    "            input[index] = 2 * ((input[index] - self.normalize_param[item]['min']) /\\\n",
    "                (self.normalize_param[item]['max'] - self.normalize_param[item]['min'])) -1\n",
    "        print('Нормализованные:', input)\n",
    "        pred:torch.Tensor = self.model(torch.tensor(input, dtype=torch.float32))  \n",
    "        \n",
    "        self.render_graaph(pred)\n",
    "        \n",
    "        pred = pred.detach().numpy()\n",
    "        print('Вывод модели:', pred)\n",
    "        for index, item in enumerate(self.output_colums):\n",
    "            pred[index] = (1 + pred[index]) / 2 * \\\n",
    "                (self.normalize_param[item]['max'] - self.normalize_param[item]['min']) +\\\n",
    "                    self.normalize_param[item]['min']\n",
    "        print('Денормализованные данные:', pred)\n",
    "        return pred\n",
    "    \n",
    "    def render_graaph(self, output):\n",
    "        # Визуализация графа\n",
    "        dot = make_dot(output, params=dict(self.model.named_parameters()))\n",
    "        dot.attr('node', style='filled', color='lightblue')\n",
    "        dot.attr('edge', style='dashed', color='grey')                   \n",
    "        dot.format = 'png'  # Устанавливаем формат файла\n",
    "        # Можно установить разрешение в dpi (точек на дюйм), например 300 dpi\n",
    "        dot.attr(dpi='300')\n",
    "        dot.render('neural_network_graph')  # Сохраняем граф в файл\n",
    "        \n",
    "\n",
    "        # Инициализация TensorBoard\n",
    "        writer = SummaryWriter('runs/neural_network_experiment_1')\n",
    "\n",
    "        # Запись графа модели\n",
    "        writer.add_graph(self.model, output)\n",
    "        writer.close()"
   ]
  },
  {
   "cell_type": "markdown",
   "metadata": {},
   "source": [
    "# Анализ"
   ]
  },
  {
   "cell_type": "code",
   "execution_count": 64,
   "metadata": {},
   "outputs": [
    {
     "name": "stdout",
     "output_type": "stream",
     "text": [
      "Read data set from path data\\DataSet900.csv\n"
     ]
    }
   ],
   "source": [
    "# First star\n",
    "data_1_path = Path(\"data/DataSet900.csv\")\n",
    "data_2_path = Path(\"data/DataSet1000.csv\")\n",
    "data_3_path = Path(\"data/DataSet100000.csv\")\n",
    "data_4_path = Path(\"data/DataSet129600.csv\")\n",
    "\n",
    "dataset = load_data(data_1_path)"
   ]
  },
  {
   "cell_type": "code",
   "execution_count": 65,
   "metadata": {},
   "outputs": [
    {
     "data": {
      "text/html": [
       "<div>\n",
       "<style scoped>\n",
       "    .dataframe tbody tr th:only-of-type {\n",
       "        vertical-align: middle;\n",
       "    }\n",
       "\n",
       "    .dataframe tbody tr th {\n",
       "        vertical-align: top;\n",
       "    }\n",
       "\n",
       "    .dataframe thead th {\n",
       "        text-align: right;\n",
       "    }\n",
       "</style>\n",
       "<table border=\"1\" class=\"dataframe\">\n",
       "  <thead>\n",
       "    <tr style=\"text-align: right;\">\n",
       "      <th></th>\n",
       "      <th>parameter1</th>\n",
       "      <th>parameter2</th>\n",
       "      <th>criteria1</th>\n",
       "      <th>criteria2</th>\n",
       "      <th>constraint1</th>\n",
       "      <th>constraint2</th>\n",
       "    </tr>\n",
       "  </thead>\n",
       "  <tbody>\n",
       "    <tr>\n",
       "      <th>0</th>\n",
       "      <td>10.0</td>\n",
       "      <td>10.0</td>\n",
       "      <td>20.0</td>\n",
       "      <td>0.000</td>\n",
       "      <td>True</td>\n",
       "      <td>False</td>\n",
       "    </tr>\n",
       "    <tr>\n",
       "      <th>1</th>\n",
       "      <td>10.0</td>\n",
       "      <td>13.0</td>\n",
       "      <td>23.0</td>\n",
       "      <td>216.770</td>\n",
       "      <td>True</td>\n",
       "      <td>True</td>\n",
       "    </tr>\n",
       "    <tr>\n",
       "      <th>2</th>\n",
       "      <td>10.0</td>\n",
       "      <td>16.0</td>\n",
       "      <td>26.0</td>\n",
       "      <td>490.088</td>\n",
       "      <td>True</td>\n",
       "      <td>True</td>\n",
       "    </tr>\n",
       "    <tr>\n",
       "      <th>3</th>\n",
       "      <td>10.0</td>\n",
       "      <td>19.0</td>\n",
       "      <td>29.0</td>\n",
       "      <td>819.956</td>\n",
       "      <td>False</td>\n",
       "      <td>True</td>\n",
       "    </tr>\n",
       "    <tr>\n",
       "      <th>4</th>\n",
       "      <td>10.0</td>\n",
       "      <td>22.0</td>\n",
       "      <td>32.0</td>\n",
       "      <td>1206.370</td>\n",
       "      <td>False</td>\n",
       "      <td>True</td>\n",
       "    </tr>\n",
       "  </tbody>\n",
       "</table>\n",
       "</div>"
      ],
      "text/plain": [
       "   parameter1  parameter2  criteria1  criteria2  constraint1  constraint2\n",
       "0        10.0        10.0       20.0      0.000         True        False\n",
       "1        10.0        13.0       23.0    216.770         True         True\n",
       "2        10.0        16.0       26.0    490.088         True         True\n",
       "3        10.0        19.0       29.0    819.956        False         True\n",
       "4        10.0        22.0       32.0   1206.370        False         True"
      ]
     },
     "execution_count": 65,
     "metadata": {},
     "output_type": "execute_result"
    }
   ],
   "source": [
    "dataset.head()"
   ]
  },
  {
   "cell_type": "markdown",
   "metadata": {},
   "source": [
    "# Проверка 1 \n",
    "input_colums=['criteria1', 'criteria2'],\n",
    "\n",
    "output_colums=['parameter1', 'parameter2'],"
   ]
  },
  {
   "cell_type": "code",
   "execution_count": 66,
   "metadata": {},
   "outputs": [
    {
     "name": "stdout",
     "output_type": "stream",
     "text": [
      "Epoch [001/400] | Train Loss: 0.367051\n",
      "Validation AVG Loss:     0.278174 \n",
      "\n",
      "Epoch [081/400] | Train Loss: 0.002966\n",
      "Validation AVG Loss:     0.003197 \n",
      "\n",
      "Epoch [161/400] | Train Loss: 0.002116\n",
      "Validation AVG Loss:     0.002072 \n",
      "\n",
      "Epoch [241/400] | Train Loss: 0.001234\n",
      "Validation AVG Loss:     0.001170 \n",
      "\n",
      "Epoch [321/400] | Train Loss: 0.000870\n",
      "Validation AVG Loss:     0.000829 \n",
      "\n",
      "Done!\n"
     ]
    }
   ],
   "source": [
    "trainer_1 = Trainer(\n",
    "    data=dataset,\n",
    "    input_colums=['criteria1', 'criteria2'],\n",
    "    output_colums=['parameter1', 'parameter2'],\n",
    "    batch_size=1000,\n",
    "    learning_rate=0.1,\n",
    "    shuffle=False,\n",
    "    test_size=0.2,\n",
    "    random_state=30,\n",
    "    save_path='saved_model/',\n",
    "    model_middle_layers=1024,\n",
    ")\n",
    "trainer_1.run(400)\n"
   ]
  },
  {
   "cell_type": "code",
   "execution_count": 67,
   "metadata": {},
   "outputs": [
    {
     "data": {
      "image/png": "[encoded data removed]",
      "text/plain": [
       "<Figure size 640x480 with 1 Axes>"
      ]
     },
     "metadata": {},
     "output_type": "display_data"
    }
   ],
   "source": [
    "trainer_1.plot_train_result()"
   ]
  },
  {
   "cell_type": "code",
   "execution_count": 68,
   "metadata": {},
   "outputs": [
    {
     "name": "stdout",
     "output_type": "stream",
     "text": [
      "Входные данные: [  119. 25795.]\n",
      "Нормализованные: [0.13793103 0.8820281 ]\n",
      "Вывод модели: [-0.69236314  0.9776378 ]\n",
      "Денормализованные данные: [23.382204 96.027245]\n",
      "{'criteria1': {'max': 194.0, 'min': 20.0}, 'criteria2': {'max': 29245.1, 'min': -29245.1}, 'parameter1': {'max': 97.0, 'min': 10.0}, 'parameter2': {'max': 97.0, 'min': 10.0}}\n",
      "Входные данные: [  119. 25795.]\n",
      "Нормализованные: [0.13793103 0.8820281 ]\n",
      "Вывод модели: [-0.69236314  0.9776378 ]\n",
      "Денормализованные данные: [23.382204 96.027245]\n",
      "[23.382204 96.027245]\n"
     ]
    },
    {
     "name": "stderr",
     "output_type": "stream",
     "text": [
      "d:\\Projects\\NLP_course\\.venv\\lib\\site-packages\\torch\\jit\\_trace.py:165: UserWarning: The .grad attribute of a Tensor that is not a leaf Tensor is being accessed. Its .grad attribute won't be populated during autograd.backward(). If you indeed want the .grad field to be populated for a non-leaf Tensor, use .retain_grad() on the non-leaf Tensor. If you access the non-leaf Tensor by mistake, make sure you access the leaf Tensor instead. See github.com/pytorch/pytorch/pull/30531 for more informations. (Triggered internally at aten\\src\\ATen/core/TensorBody.h:494.)\n",
      "  if a.grad is not None:\n"
     ]
    }
   ],
   "source": [
    "trainer_1.save_model()\n",
    "trainer_1.predict(np.array([119, 25795]))\n",
    "\n",
    "print(trainer_1.normalize_param)\n",
    "\n",
    "# Next starts\n",
    "load_model = LoadModel(\n",
    "    'saved_model/criteria1_criteria2_parameter1_parameter2_model_weights.pth',\n",
    "    'saved_model/criteria1_criteria2_parameter1_parameter2_normalize_params.pkl',\n",
    "    input_colums=['criteria1', 'criteria2'],\n",
    "    output_colums=['parameter1', 'parameter2']\n",
    ")\n",
    "print(load_model.predict(np.array([119,\t25795])))"
   ]
  },
  {
   "cell_type": "code",
   "execution_count": 69,
   "metadata": {},
   "outputs": [
    {
     "data": {
      "text/html": [
       "<div>\n",
       "<style scoped>\n",
       "    .dataframe tbody tr th:only-of-type {\n",
       "        vertical-align: middle;\n",
       "    }\n",
       "\n",
       "    .dataframe tbody tr th {\n",
       "        vertical-align: top;\n",
       "    }\n",
       "\n",
       "    .dataframe thead th {\n",
       "        text-align: right;\n",
       "    }\n",
       "</style>\n",
       "<table border=\"1\" class=\"dataframe\">\n",
       "  <thead>\n",
       "    <tr style=\"text-align: right;\">\n",
       "      <th></th>\n",
       "      <th>parameter1</th>\n",
       "      <th>parameter2</th>\n",
       "      <th>criteria1</th>\n",
       "      <th>criteria2</th>\n",
       "      <th>constraint1</th>\n",
       "      <th>constraint2</th>\n",
       "    </tr>\n",
       "  </thead>\n",
       "  <tbody>\n",
       "    <tr>\n",
       "      <th>178</th>\n",
       "      <td>25.0</td>\n",
       "      <td>94.0</td>\n",
       "      <td>119.0</td>\n",
       "      <td>25795.6</td>\n",
       "      <td>False</td>\n",
       "      <td>True</td>\n",
       "    </tr>\n",
       "    <tr>\n",
       "      <th>179</th>\n",
       "      <td>25.0</td>\n",
       "      <td>97.0</td>\n",
       "      <td>122.0</td>\n",
       "      <td>27595.7</td>\n",
       "      <td>False</td>\n",
       "      <td>True</td>\n",
       "    </tr>\n",
       "  </tbody>\n",
       "</table>\n",
       "</div>"
      ],
      "text/plain": [
       "     parameter1  parameter2  criteria1  criteria2  constraint1  constraint2\n",
       "178        25.0        94.0      119.0    25795.6        False         True\n",
       "179        25.0        97.0      122.0    27595.7        False         True"
      ]
     },
     "execution_count": 69,
     "metadata": {},
     "output_type": "execute_result"
    }
   ],
   "source": [
    "dataset.iloc[178:180]"
   ]
  },
  {
   "cell_type": "markdown",
   "metadata": {},
   "source": [
    "# Проверка 2\n",
    "input_colums=['parameter1', 'parameter2'],\n",
    "\n",
    "output_colums=['criteria1', 'criteria2'],"
   ]
  },
  {
   "cell_type": "code",
   "execution_count": 70,
   "metadata": {},
   "outputs": [
    {
     "name": "stdout",
     "output_type": "stream",
     "text": [
      "Epoch [001/1000] | Train Loss: 0.189407\n",
      "Validation AVG Loss:     0.106418 \n",
      "\n",
      "Epoch [201/1000] | Train Loss: 0.000633\n",
      "Validation AVG Loss:     0.000638 \n",
      "\n",
      "Epoch [401/1000] | Train Loss: 0.000229\n",
      "Validation AVG Loss:     0.000234 \n",
      "\n",
      "Epoch [601/1000] | Train Loss: 0.000122\n",
      "Validation AVG Loss:     0.000126 \n",
      "\n",
      "Epoch [801/1000] | Train Loss: 0.000078\n",
      "Validation AVG Loss:     0.000081 \n",
      "\n",
      "Done!\n"
     ]
    }
   ],
   "source": [
    "trainer_2 = Trainer(\n",
    "    data=dataset,\n",
    "    input_colums=['parameter1', 'parameter2'],\n",
    "    output_colums=['criteria1', 'criteria2'],\n",
    "    batch_size=1000,\n",
    "    learning_rate=0.5,\n",
    "    shuffle=False,\n",
    "    test_size=0.2,\n",
    "    random_state=30,\n",
    "    save_path='saved_model/',\n",
    "    model_middle_layers=1024,\n",
    ")\n",
    "trainer_2.run(1000)\n"
   ]
  },
  {
   "cell_type": "code",
   "execution_count": 71,
   "metadata": {},
   "outputs": [
    {
     "data": {
      "image/png": "[encoded data removed]",
      "text/plain": [
       "<Figure size 640x480 with 1 Axes>"
      ]
     },
     "metadata": {},
     "output_type": "display_data"
    }
   ],
   "source": [
    "trainer_2.plot_train_result()"
   ]
  },
  {
   "cell_type": "code",
   "execution_count": 72,
   "metadata": {},
   "outputs": [
    {
     "name": "stdout",
     "output_type": "stream",
     "text": [
      "Входные данные: [25. 94.]\n",
      "Нормализованные: [-0.65517241  0.93103448]\n",
      "Вывод модели: [0.1366288 0.9055169]\n",
      "Денормализованные данные: [  118.8867 26481.934 ]\n",
      "{'parameter1': {'max': 97.0, 'min': 10.0}, 'parameter2': {'max': 97.0, 'min': 10.0}, 'criteria1': {'max': 194.0, 'min': 20.0}, 'criteria2': {'max': 29245.1, 'min': -29245.1}}\n"
     ]
    }
   ],
   "source": [
    "trainer_2.save_model()\n",
    "trainer_2.predict(np.array([25., 94.]))\n",
    "\n",
    "print(trainer_2.normalize_param)"
   ]
  },
  {
   "cell_type": "code",
   "execution_count": 73,
   "metadata": {},
   "outputs": [
    {
     "data": {
      "text/html": [
       "<div>\n",
       "<style scoped>\n",
       "    .dataframe tbody tr th:only-of-type {\n",
       "        vertical-align: middle;\n",
       "    }\n",
       "\n",
       "    .dataframe tbody tr th {\n",
       "        vertical-align: top;\n",
       "    }\n",
       "\n",
       "    .dataframe thead th {\n",
       "        text-align: right;\n",
       "    }\n",
       "</style>\n",
       "<table border=\"1\" class=\"dataframe\">\n",
       "  <thead>\n",
       "    <tr style=\"text-align: right;\">\n",
       "      <th></th>\n",
       "      <th>parameter1</th>\n",
       "      <th>parameter2</th>\n",
       "      <th>criteria1</th>\n",
       "      <th>criteria2</th>\n",
       "      <th>constraint1</th>\n",
       "      <th>constraint2</th>\n",
       "    </tr>\n",
       "  </thead>\n",
       "  <tbody>\n",
       "    <tr>\n",
       "      <th>178</th>\n",
       "      <td>25.0</td>\n",
       "      <td>94.0</td>\n",
       "      <td>119.0</td>\n",
       "      <td>25795.6</td>\n",
       "      <td>False</td>\n",
       "      <td>True</td>\n",
       "    </tr>\n",
       "    <tr>\n",
       "      <th>179</th>\n",
       "      <td>25.0</td>\n",
       "      <td>97.0</td>\n",
       "      <td>122.0</td>\n",
       "      <td>27595.7</td>\n",
       "      <td>False</td>\n",
       "      <td>True</td>\n",
       "    </tr>\n",
       "  </tbody>\n",
       "</table>\n",
       "</div>"
      ],
      "text/plain": [
       "     parameter1  parameter2  criteria1  criteria2  constraint1  constraint2\n",
       "178        25.0        94.0      119.0    25795.6        False         True\n",
       "179        25.0        97.0      122.0    27595.7        False         True"
      ]
     },
     "execution_count": 73,
     "metadata": {},
     "output_type": "execute_result"
    }
   ],
   "source": [
    "dataset.iloc[178:180]"
   ]
  },
  {
   "cell_type": "markdown",
   "metadata": {},
   "source": [
    "# Проверка 3\n",
    "input_colums=['parameter1', 'criteria1'],\n",
    "\n",
    "output_colums=['parameter2', 'criteria2'],"
   ]
  },
  {
   "cell_type": "code",
   "execution_count": 74,
   "metadata": {},
   "outputs": [
    {
     "name": "stdout",
     "output_type": "stream",
     "text": [
      "Epoch [001/1000] | Train Loss: 0.279439\n",
      "Validation AVG Loss:     0.224427 \n",
      "\n",
      "Epoch [201/1000] | Train Loss: 0.001299\n",
      "Validation AVG Loss:     0.001268 \n",
      "\n"
     ]
    },
    {
     "ename": "KeyboardInterrupt",
     "evalue": "",
     "output_type": "error",
     "traceback": [
      "\u001b[1;31m---------------------------------------------------------------------------\u001b[0m",
      "\u001b[1;31mKeyboardInterrupt\u001b[0m                         Traceback (most recent call last)",
      "Cell \u001b[1;32mIn[74], line 13\u001b[0m\n\u001b[0;32m      1\u001b[0m trainer_3 \u001b[38;5;241m=\u001b[39m Trainer(\n\u001b[0;32m      2\u001b[0m     data\u001b[38;5;241m=\u001b[39mdataset,\n\u001b[0;32m      3\u001b[0m     input_colums\u001b[38;5;241m=\u001b[39m[\u001b[38;5;124m'\u001b[39m\u001b[38;5;124mparameter1\u001b[39m\u001b[38;5;124m'\u001b[39m, \u001b[38;5;124m'\u001b[39m\u001b[38;5;124mcriteria1\u001b[39m\u001b[38;5;124m'\u001b[39m],\n\u001b[1;32m   (...)\u001b[0m\n\u001b[0;32m     11\u001b[0m     model_middle_layers\u001b[38;5;241m=\u001b[39m\u001b[38;5;241m1024\u001b[39m,\n\u001b[0;32m     12\u001b[0m )\n\u001b[1;32m---> 13\u001b[0m \u001b[43mtrainer_3\u001b[49m\u001b[38;5;241;43m.\u001b[39;49m\u001b[43mrun\u001b[49m\u001b[43m(\u001b[49m\u001b[38;5;241;43m1000\u001b[39;49m\u001b[43m)\u001b[49m\n",
      "Cell \u001b[1;32mIn[62], line 97\u001b[0m, in \u001b[0;36mTrainer.run\u001b[1;34m(self, epochs)\u001b[0m\n\u001b[0;32m     95\u001b[0m \u001b[38;5;28;01mdef\u001b[39;00m \u001b[38;5;21mrun\u001b[39m(\u001b[38;5;28mself\u001b[39m,  epochs\u001b[38;5;241m=\u001b[39m\u001b[38;5;241m10\u001b[39m):\n\u001b[0;32m     96\u001b[0m     \u001b[38;5;28;01mfor\u001b[39;00m t \u001b[38;5;129;01min\u001b[39;00m \u001b[38;5;28mrange\u001b[39m(epochs):\n\u001b[1;32m---> 97\u001b[0m         train_avg_loss \u001b[38;5;241m=\u001b[39m \u001b[38;5;28;43mself\u001b[39;49m\u001b[38;5;241;43m.\u001b[39;49m\u001b[43mtrain\u001b[49m\u001b[43m(\u001b[49m\u001b[43m)\u001b[49m\n\u001b[0;32m     99\u001b[0m         val_avg_loss \u001b[38;5;241m=\u001b[39m \u001b[38;5;28mself\u001b[39m\u001b[38;5;241m.\u001b[39mvalidate()\n\u001b[0;32m    100\u001b[0m         counter_1 \u001b[38;5;241m=\u001b[39m epochs \u001b[38;5;241m/\u001b[39m \u001b[38;5;241m5\u001b[39m\n",
      "Cell \u001b[1;32mIn[62], line 74\u001b[0m, in \u001b[0;36mTrainer.train\u001b[1;34m(self)\u001b[0m\n\u001b[0;32m     71\u001b[0m loss: torch\u001b[38;5;241m.\u001b[39mTensor \u001b[38;5;241m=\u001b[39m \u001b[38;5;28mself\u001b[39m\u001b[38;5;241m.\u001b[39mloss_func(pred, y)\n\u001b[0;32m     73\u001b[0m \u001b[38;5;66;03m# Backpropagation\u001b[39;00m\n\u001b[1;32m---> 74\u001b[0m \u001b[43mloss\u001b[49m\u001b[38;5;241;43m.\u001b[39;49m\u001b[43mbackward\u001b[49m\u001b[43m(\u001b[49m\u001b[43m)\u001b[49m\n\u001b[0;32m     75\u001b[0m \u001b[38;5;28mself\u001b[39m\u001b[38;5;241m.\u001b[39moptimizer\u001b[38;5;241m.\u001b[39mstep()\n\u001b[0;32m     76\u001b[0m \u001b[38;5;28mself\u001b[39m\u001b[38;5;241m.\u001b[39moptimizer\u001b[38;5;241m.\u001b[39mzero_grad()\n",
      "File \u001b[1;32md:\\Projects\\NLP_course\\.venv\\lib\\site-packages\\torch\\_tensor.py:522\u001b[0m, in \u001b[0;36mTensor.backward\u001b[1;34m(self, gradient, retain_graph, create_graph, inputs)\u001b[0m\n\u001b[0;32m    512\u001b[0m \u001b[38;5;28;01mif\u001b[39;00m has_torch_function_unary(\u001b[38;5;28mself\u001b[39m):\n\u001b[0;32m    513\u001b[0m     \u001b[38;5;28;01mreturn\u001b[39;00m handle_torch_function(\n\u001b[0;32m    514\u001b[0m         Tensor\u001b[38;5;241m.\u001b[39mbackward,\n\u001b[0;32m    515\u001b[0m         (\u001b[38;5;28mself\u001b[39m,),\n\u001b[1;32m   (...)\u001b[0m\n\u001b[0;32m    520\u001b[0m         inputs\u001b[38;5;241m=\u001b[39minputs,\n\u001b[0;32m    521\u001b[0m     )\n\u001b[1;32m--> 522\u001b[0m \u001b[43mtorch\u001b[49m\u001b[38;5;241;43m.\u001b[39;49m\u001b[43mautograd\u001b[49m\u001b[38;5;241;43m.\u001b[39;49m\u001b[43mbackward\u001b[49m\u001b[43m(\u001b[49m\n\u001b[0;32m    523\u001b[0m \u001b[43m    \u001b[49m\u001b[38;5;28;43mself\u001b[39;49m\u001b[43m,\u001b[49m\u001b[43m \u001b[49m\u001b[43mgradient\u001b[49m\u001b[43m,\u001b[49m\u001b[43m \u001b[49m\u001b[43mretain_graph\u001b[49m\u001b[43m,\u001b[49m\u001b[43m \u001b[49m\u001b[43mcreate_graph\u001b[49m\u001b[43m,\u001b[49m\u001b[43m \u001b[49m\u001b[43minputs\u001b[49m\u001b[38;5;241;43m=\u001b[39;49m\u001b[43minputs\u001b[49m\n\u001b[0;32m    524\u001b[0m \u001b[43m\u001b[49m\u001b[43m)\u001b[49m\n",
      "File \u001b[1;32md:\\Projects\\NLP_course\\.venv\\lib\\site-packages\\torch\\autograd\\__init__.py:266\u001b[0m, in \u001b[0;36mbackward\u001b[1;34m(tensors, grad_tensors, retain_graph, create_graph, grad_variables, inputs)\u001b[0m\n\u001b[0;32m    261\u001b[0m     retain_graph \u001b[38;5;241m=\u001b[39m create_graph\n\u001b[0;32m    263\u001b[0m \u001b[38;5;66;03m# The reason we repeat the same comment below is that\u001b[39;00m\n\u001b[0;32m    264\u001b[0m \u001b[38;5;66;03m# some Python versions print out the first line of a multi-line function\u001b[39;00m\n\u001b[0;32m    265\u001b[0m \u001b[38;5;66;03m# calls in the traceback and some print out the last line\u001b[39;00m\n\u001b[1;32m--> 266\u001b[0m \u001b[43mVariable\u001b[49m\u001b[38;5;241;43m.\u001b[39;49m\u001b[43m_execution_engine\u001b[49m\u001b[38;5;241;43m.\u001b[39;49m\u001b[43mrun_backward\u001b[49m\u001b[43m(\u001b[49m\u001b[43m  \u001b[49m\u001b[38;5;66;43;03m# Calls into the C++ engine to run the backward pass\u001b[39;49;00m\n\u001b[0;32m    267\u001b[0m \u001b[43m    \u001b[49m\u001b[43mtensors\u001b[49m\u001b[43m,\u001b[49m\n\u001b[0;32m    268\u001b[0m \u001b[43m    \u001b[49m\u001b[43mgrad_tensors_\u001b[49m\u001b[43m,\u001b[49m\n\u001b[0;32m    269\u001b[0m \u001b[43m    \u001b[49m\u001b[43mretain_graph\u001b[49m\u001b[43m,\u001b[49m\n\u001b[0;32m    270\u001b[0m \u001b[43m    \u001b[49m\u001b[43mcreate_graph\u001b[49m\u001b[43m,\u001b[49m\n\u001b[0;32m    271\u001b[0m \u001b[43m    \u001b[49m\u001b[43minputs\u001b[49m\u001b[43m,\u001b[49m\n\u001b[0;32m    272\u001b[0m \u001b[43m    \u001b[49m\u001b[43mallow_unreachable\u001b[49m\u001b[38;5;241;43m=\u001b[39;49m\u001b[38;5;28;43;01mTrue\u001b[39;49;00m\u001b[43m,\u001b[49m\n\u001b[0;32m    273\u001b[0m \u001b[43m    \u001b[49m\u001b[43maccumulate_grad\u001b[49m\u001b[38;5;241;43m=\u001b[39;49m\u001b[38;5;28;43;01mTrue\u001b[39;49;00m\u001b[43m,\u001b[49m\n\u001b[0;32m    274\u001b[0m \u001b[43m\u001b[49m\u001b[43m)\u001b[49m\n",
      "\u001b[1;31mKeyboardInterrupt\u001b[0m: "
     ]
    }
   ],
   "source": [
    "trainer_3 = Trainer(\n",
    "    data=dataset,\n",
    "    input_colums=['parameter1', 'criteria1'],\n",
    "    output_colums=['parameter2', 'criteria2'],\n",
    "    batch_size=1000,\n",
    "    learning_rate=0.1,\n",
    "    shuffle=False,\n",
    "    test_size=0.2,\n",
    "    random_state=30,\n",
    "    save_path='saved_model/',\n",
    "    model_middle_layers=1024,\n",
    ")\n",
    "trainer_3.run(1000)\n"
   ]
  },
  {
   "cell_type": "code",
   "execution_count": null,
   "metadata": {},
   "outputs": [
    {
     "data": {
      "image/png": "[encoded data removed]",
      "text/plain": [
       "<Figure size 640x480 with 1 Axes>"
      ]
     },
     "metadata": {},
     "output_type": "display_data"
    }
   ],
   "source": [
    "trainer_3.plot_train_result()"
   ]
  },
  {
   "cell_type": "code",
   "execution_count": null,
   "metadata": {},
   "outputs": [
    {
     "name": "stdout",
     "output_type": "stream",
     "text": [
      "Входные данные: [ 25. 119.]\n",
      "Нормализованные: [-0.65517241  0.13793103]\n",
      "Вывод модели: [0.94981164 0.88581824]\n",
      "Денормализованные данные: [   94.8168 25905.844 ]\n",
      "{'parameter1': {'max': 97.0, 'min': 10.0}, 'criteria1': {'max': 194.0, 'min': 20.0}, 'parameter2': {'max': 97.0, 'min': 10.0}, 'criteria2': {'max': 29245.1, 'min': -29245.1}}\n"
     ]
    }
   ],
   "source": [
    "trainer_3.save_model()\n",
    "trainer_3.predict(np.array([25., 119.]))\n",
    "\n",
    "print(trainer_3.normalize_param)"
   ]
  },
  {
   "cell_type": "code",
   "execution_count": null,
   "metadata": {},
   "outputs": [
    {
     "data": {
      "text/html": [
       "<div>\n",
       "<style scoped>\n",
       "    .dataframe tbody tr th:only-of-type {\n",
       "        vertical-align: middle;\n",
       "    }\n",
       "\n",
       "    .dataframe tbody tr th {\n",
       "        vertical-align: top;\n",
       "    }\n",
       "\n",
       "    .dataframe thead th {\n",
       "        text-align: right;\n",
       "    }\n",
       "</style>\n",
       "<table border=\"1\" class=\"dataframe\">\n",
       "  <thead>\n",
       "    <tr style=\"text-align: right;\">\n",
       "      <th></th>\n",
       "      <th>parameter1</th>\n",
       "      <th>parameter2</th>\n",
       "      <th>criteria1</th>\n",
       "      <th>criteria2</th>\n",
       "      <th>constraint1</th>\n",
       "      <th>constraint2</th>\n",
       "    </tr>\n",
       "  </thead>\n",
       "  <tbody>\n",
       "    <tr>\n",
       "      <th>178</th>\n",
       "      <td>25.0</td>\n",
       "      <td>94.0</td>\n",
       "      <td>119.0</td>\n",
       "      <td>25795.6</td>\n",
       "      <td>False</td>\n",
       "      <td>True</td>\n",
       "    </tr>\n",
       "    <tr>\n",
       "      <th>179</th>\n",
       "      <td>25.0</td>\n",
       "      <td>97.0</td>\n",
       "      <td>122.0</td>\n",
       "      <td>27595.7</td>\n",
       "      <td>False</td>\n",
       "      <td>True</td>\n",
       "    </tr>\n",
       "  </tbody>\n",
       "</table>\n",
       "</div>"
      ],
      "text/plain": [
       "     parameter1  parameter2  criteria1  criteria2  constraint1  constraint2\n",
       "178        25.0        94.0      119.0    25795.6        False         True\n",
       "179        25.0        97.0      122.0    27595.7        False         True"
      ]
     },
     "execution_count": 89,
     "metadata": {},
     "output_type": "execute_result"
    }
   ],
   "source": [
    "dataset.iloc[178:180]"
   ]
  },
  {
   "cell_type": "markdown",
   "metadata": {},
   "source": [
    "# Проверка 4\n",
    "input_colums=['parameter2', 'criteria2'],\n",
    "\n",
    "output_colums=['parameter1', 'criteria1'],"
   ]
  },
  {
   "cell_type": "code",
   "execution_count": null,
   "metadata": {},
   "outputs": [
    {
     "name": "stdout",
     "output_type": "stream",
     "text": [
      "Epoch [001/1000] | Train Loss: 0.271122\n",
      "Validation AVG Loss:     0.238402 \n",
      "\n",
      "Epoch [201/1000] | Train Loss: 0.004921\n",
      "Validation AVG Loss:     0.004770 \n",
      "\n",
      "Epoch [401/1000] | Train Loss: 0.002635\n",
      "Validation AVG Loss:     0.002493 \n",
      "\n",
      "Epoch [601/1000] | Train Loss: 0.001727\n",
      "Validation AVG Loss:     0.001614 \n",
      "\n",
      "Epoch [801/1000] | Train Loss: 0.001281\n",
      "Validation AVG Loss:     0.001187 \n",
      "\n",
      "Done!\n"
     ]
    }
   ],
   "source": [
    "trainer_4 = Trainer(\n",
    "    data=dataset,\n",
    "    input_colums=['parameter2', 'criteria2'],\n",
    "    output_colums=['parameter1', 'criteria1'],\n",
    "    batch_size=1000,\n",
    "    learning_rate=0.1,\n",
    "    shuffle=False,\n",
    "    test_size=0.2,\n",
    "    random_state=30,\n",
    "    save_path='saved_model/',\n",
    "    model_middle_layers=1024,\n",
    ")\n",
    "trainer_4.run(1000)\n"
   ]
  },
  {
   "cell_type": "code",
   "execution_count": null,
   "metadata": {},
   "outputs": [
    {
     "data": {
      "image/png": "[encoded data removed]",
      "text/plain": [
       "<Figure size 640x480 with 1 Axes>"
      ]
     },
     "metadata": {},
     "output_type": "display_data"
    }
   ],
   "source": [
    "trainer_4.plot_train_result()"
   ]
  },
  {
   "cell_type": "code",
   "execution_count": null,
   "metadata": {},
   "outputs": [
    {
     "name": "stdout",
     "output_type": "stream",
     "text": [
      "Входные данные: [   94. 25795.]\n",
      "Нормализованные: [0.93103448 0.8820281 ]\n",
      "Вывод модели: [-0.62589693  0.16081075]\n",
      "Денормализованные данные: [ 26.273483 120.99053 ]\n",
      "{'parameter2': {'max': 97.0, 'min': 10.0}, 'criteria2': {'max': 29245.1, 'min': -29245.1}, 'parameter1': {'max': 97.0, 'min': 10.0}, 'criteria1': {'max': 194.0, 'min': 20.0}}\n"
     ]
    }
   ],
   "source": [
    "trainer_4.save_model()\n",
    "trainer_4.predict(np.array([94., 25795.]))\n",
    "\n",
    "print(trainer_4.normalize_param)"
   ]
  },
  {
   "cell_type": "code",
   "execution_count": null,
   "metadata": {},
   "outputs": [
    {
     "data": {
      "text/html": [
       "<div>\n",
       "<style scoped>\n",
       "    .dataframe tbody tr th:only-of-type {\n",
       "        vertical-align: middle;\n",
       "    }\n",
       "\n",
       "    .dataframe tbody tr th {\n",
       "        vertical-align: top;\n",
       "    }\n",
       "\n",
       "    .dataframe thead th {\n",
       "        text-align: right;\n",
       "    }\n",
       "</style>\n",
       "<table border=\"1\" class=\"dataframe\">\n",
       "  <thead>\n",
       "    <tr style=\"text-align: right;\">\n",
       "      <th></th>\n",
       "      <th>parameter1</th>\n",
       "      <th>parameter2</th>\n",
       "      <th>criteria1</th>\n",
       "      <th>criteria2</th>\n",
       "      <th>constraint1</th>\n",
       "      <th>constraint2</th>\n",
       "    </tr>\n",
       "  </thead>\n",
       "  <tbody>\n",
       "    <tr>\n",
       "      <th>178</th>\n",
       "      <td>25.0</td>\n",
       "      <td>94.0</td>\n",
       "      <td>119.0</td>\n",
       "      <td>25795.6</td>\n",
       "      <td>False</td>\n",
       "      <td>True</td>\n",
       "    </tr>\n",
       "    <tr>\n",
       "      <th>179</th>\n",
       "      <td>25.0</td>\n",
       "      <td>97.0</td>\n",
       "      <td>122.0</td>\n",
       "      <td>27595.7</td>\n",
       "      <td>False</td>\n",
       "      <td>True</td>\n",
       "    </tr>\n",
       "  </tbody>\n",
       "</table>\n",
       "</div>"
      ],
      "text/plain": [
       "     parameter1  parameter2  criteria1  criteria2  constraint1  constraint2\n",
       "178        25.0        94.0      119.0    25795.6        False         True\n",
       "179        25.0        97.0      122.0    27595.7        False         True"
      ]
     },
     "execution_count": 93,
     "metadata": {},
     "output_type": "execute_result"
    }
   ],
   "source": [
    "dataset.iloc[178:180]"
   ]
  }
 ],
 "metadata": {
  "kernelspec": {
   "display_name": ".venv",
   "language": "python",
   "name": "python3"
  },
  "language_info": {
   "codemirror_mode": {
    "name": "ipython",
    "version": 3
   },
   "file_extension": ".py",
   "mimetype": "text/x-python",
   "name": "python",
   "nbconvert_exporter": "python",
   "pygments_lexer": "ipython3",
   "version": "3.10.11"
  }
 },
 "nbformat": 4,
 "nbformat_minor": 2
}

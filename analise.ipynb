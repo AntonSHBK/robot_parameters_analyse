{
 "cells": [
  {
   "cell_type": "markdown",
   "metadata": {},
   "source": [
    "# Импорты"
   ]
  },
  {
   "cell_type": "code",
   "execution_count": 104,
   "metadata": {},
   "outputs": [],
   "source": [
    "import pandas as pd\n",
    "import numpy as np\n",
    "from pathlib import Path"
   ]
  },
  {
   "cell_type": "markdown",
   "metadata": {},
   "source": [
    "## Дефолтные настройки Matplotlib"
   ]
  },
  {
   "cell_type": "code",
   "execution_count": 105,
   "metadata": {},
   "outputs": [],
   "source": [
    "import matplotlib.pyplot as plt\n",
    "\n",
    "# устанавливаем дефолтные размеры шрифтов\n",
    "plt.rc('font', size=14)\n",
    "plt.rc('axes', labelsize=14, titlesize=14)\n",
    "plt.rc('legend', fontsize=14)\n",
    "plt.rc('xtick', labelsize=10)\n",
    "plt.rc('ytick', labelsize=10)"
   ]
  },
  {
   "cell_type": "code",
   "execution_count": 106,
   "metadata": {},
   "outputs": [],
   "source": [
    "convert_type_dict = {'parameter1': float,\n",
    "                    'parameter2': float,\n",
    "                    'criteria1': float,\n",
    "                    'criteria2': float,\n",
    "                    'constraint1': bool,\n",
    "                    'constraint2': bool,\n",
    "                    }"
   ]
  },
  {
   "cell_type": "markdown",
   "metadata": {},
   "source": [
    "Загрузка датасета"
   ]
  },
  {
   "cell_type": "code",
   "execution_count": 107,
   "metadata": {},
   "outputs": [],
   "source": [
    "def load_data(path: Path):\n",
    "    print(\"Read data set from path {path}\".format(path=path))\n",
    "    df = pd.read_csv(path).astype(convert_type_dict)\n",
    "    return df"
   ]
  },
  {
   "cell_type": "markdown",
   "metadata": {},
   "source": [
    "Непосредственно загрузка"
   ]
  },
  {
   "cell_type": "code",
   "execution_count": 108,
   "metadata": {},
   "outputs": [
    {
     "name": "stdout",
     "output_type": "stream",
     "text": [
      "Read data set from path data\\DataSet900.csv\n",
      "Read data set from path data\\DataSet1000.csv\n",
      "Read data set from path data\\DataSet100000.csv\n",
      "Read data set from path data\\DataSet129600.csv\n"
     ]
    }
   ],
   "source": [
    "data_1_path = Path(\"data/DataSet900.csv\")\n",
    "data_2_path = Path(\"data/DataSet1000.csv\")\n",
    "data_3_path = Path(\"data/DataSet100000.csv\")\n",
    "data_4_path = Path(\"data/DataSet129600.csv\")\n",
    "\n",
    "data_1 = load_data(data_1_path)\n",
    "data_2 = load_data(data_2_path)\n",
    "data_3 = load_data(data_3_path)\n",
    "data_4 = load_data(data_4_path)\n",
    "\n",
    "dataset = data_1"
   ]
  },
  {
   "cell_type": "markdown",
   "metadata": {},
   "source": [
    "Шапка датасета, первые 5 записей  набора данных."
   ]
  },
  {
   "cell_type": "markdown",
   "metadata": {},
   "source": [
    "Код описывающий сохранение графиков и рисунков"
   ]
  },
  {
   "cell_type": "code",
   "execution_count": 109,
   "metadata": {},
   "outputs": [],
   "source": [
    "IMAGES_PATH = Path() / \"imgs\"\n",
    "IMAGES_PATH.mkdir(parents=True, exist_ok=True)\n",
    "\n",
    "def save_fig(fig_id, tight_layout=True, fig_extension=\"png\", resolution=300):\n",
    "    path = IMAGES_PATH / f\"{fig_id}.{fig_extension}\"\n",
    "    if tight_layout:\n",
    "        plt.tight_layout()\n",
    "    plt.savefig(path, format=fig_extension, dpi=resolution)"
   ]
  },
  {
   "cell_type": "markdown",
   "metadata": {},
   "source": [
    "Устанавливаем параметр рандомизации (что бы значения повторялись при запуске)"
   ]
  },
  {
   "cell_type": "code",
   "execution_count": 110,
   "metadata": {},
   "outputs": [],
   "source": [
    "np.random.seed(30)"
   ]
  },
  {
   "cell_type": "markdown",
   "metadata": {},
   "source": [
    "Новый критерий сильно коррелирует с нашим параметром"
   ]
  },
  {
   "cell_type": "code",
   "execution_count": 111,
   "metadata": {},
   "outputs": [],
   "source": [
    "import torch\n",
    "from typing import List\n",
    "import pickle\n",
    "from torch import nn\n",
    "from torch.utils.data import DataLoader, Dataset"
   ]
  },
  {
   "cell_type": "markdown",
   "metadata": {},
   "source": [
    "## Установить роботу с куда или нна цп"
   ]
  },
  {
   "cell_type": "code",
   "execution_count": 112,
   "metadata": {},
   "outputs": [
    {
     "name": "stdout",
     "output_type": "stream",
     "text": [
      "Using cpu device\n"
     ]
    }
   ],
   "source": [
    "device = (\n",
    "    \"cuda\"\n",
    "    if torch.cuda.is_available()\n",
    "    else \"mps\"\n",
    "    if torch.backends.mps.is_available()\n",
    "    else \"cpu\"\n",
    ")\n",
    "print(f\"Using {device} device\")"
   ]
  },
  {
   "cell_type": "markdown",
   "metadata": {},
   "source": [
    "# Working with data"
   ]
  },
  {
   "cell_type": "code",
   "execution_count": 113,
   "metadata": {},
   "outputs": [],
   "source": [
    "class MyDataset(Dataset):\n",
    "    '''\n",
    "    Dataset:\n",
    "    '''\n",
    "    def __init__(self, \n",
    "                 data:pd.DataFrame,\n",
    "                 input_colums: List[str],\n",
    "                 output_colums: List[str]) -> None:\n",
    "        self.input_colums = input_colums\n",
    "        self.output_colums = output_colums\n",
    "        \n",
    "        x = data[self.input_colums].values\n",
    "        y = data[self.output_colums].values\n",
    "        \n",
    "        self.x_train = torch.tensor(x, dtype=torch.float32)\n",
    "        self.y_train = torch.tensor(y, dtype=torch.float32)      \n",
    "        \n",
    "    def __len__(self):\n",
    "        return len(self.y_train)\n",
    "    \n",
    "    def __getitem__(self, index):\n",
    "        return self.x_train[index], self.y_train[index]    "
   ]
  },
  {
   "cell_type": "markdown",
   "metadata": {},
   "source": [
    "# Creating Models"
   ]
  },
  {
   "cell_type": "code",
   "execution_count": 114,
   "metadata": {},
   "outputs": [
    {
     "name": "stdout",
     "output_type": "stream",
     "text": [
      "NeuralNetwork(\n",
      "  (linear_relu_stack): Sequential(\n",
      "    (0): Linear(in_features=2, out_features=128, bias=True)\n",
      "    (1): ReLU()\n",
      "    (2): Linear(in_features=128, out_features=128, bias=True)\n",
      "    (3): ReLU()\n",
      "    (4): Linear(in_features=128, out_features=128, bias=True)\n",
      "    (5): ReLU()\n",
      "    (6): Linear(in_features=128, out_features=2, bias=True)\n",
      "  )\n",
      ")\n"
     ]
    }
   ],
   "source": [
    "\n",
    "class NeuralNetwork(nn.Module):\n",
    "    '''\n",
    "    Define neural network model:\n",
    "    '''\n",
    "    def __init__(self, inputs, outputs, middle_layers=128):\n",
    "        super(NeuralNetwork, self).__init__()\n",
    "        self.linear_relu_stack = nn.Sequential(            \n",
    "            nn.Linear(inputs, middle_layers),\n",
    "            nn.ReLU(),\n",
    "            nn.Linear(middle_layers, middle_layers),\n",
    "            nn.ReLU(),\n",
    "            nn.Linear(middle_layers, middle_layers),\n",
    "            nn.ReLU(),\n",
    "            nn.Linear(middle_layers, outputs)\n",
    "        )\n",
    "\n",
    "    def forward(self, x: torch.Tensor):\n",
    "        logits = self.linear_relu_stack(x)\n",
    "        return logits\n",
    "\n",
    "test = NeuralNetwork(2,2).to(device)\n",
    "print(test)"
   ]
  },
  {
   "cell_type": "markdown",
   "metadata": {},
   "source": []
  },
  {
   "cell_type": "markdown",
   "metadata": {},
   "source": [
    "# Optimizing the Model Parameters"
   ]
  },
  {
   "cell_type": "code",
   "execution_count": 115,
   "metadata": {},
   "outputs": [],
   "source": [
    "# from numpy import mean\n",
    "# from sympy import prime\n",
    "from torch.nn import MSELoss\n",
    "from torch.optim import SGD\n",
    "\n",
    "from sklearn.model_selection import train_test_split\n",
    "\n",
    "\n",
    "class Trainer():\n",
    "    '''\n",
    "    Trainer:\n",
    "    '''\n",
    "    def __init__(self,\n",
    "                 data:pd.DataFrame,\n",
    "                 input_colums:List[str],\n",
    "                 output_colums:List[str],\n",
    "                 batch_size=32,\n",
    "                 learning_rate=0.005,\n",
    "                 shuffle=False,\n",
    "                 test_size=0.2,\n",
    "                 random_state=None,\n",
    "                 save_path='saved_model/',\n",
    "                 model_middle_layers=512):\n",
    "        \n",
    "        self.save_path = save_path\n",
    "        \n",
    "        self.input_colums = input_colums\n",
    "        self.output_colums = output_colums\n",
    "        \n",
    "        self.uniq_name = '_'.join(input_colums + output_colums)\n",
    "        \n",
    "        self.data = data.copy()\n",
    "        self.normalize_param = self._normalize_data(self.data, input_colums+output_colums)\n",
    "        with open(save_path+self.uniq_name+'_normalize_params.pkl', 'wb') as file: \n",
    "            pickle.dump(self.normalize_param, file)\n",
    "\n",
    "        train_set, test_set = train_test_split(self.data, test_size=test_size, random_state=random_state)\n",
    "                \n",
    "        self.train_dataloader = DataLoader(\n",
    "            MyDataset(train_set, input_colums, output_colums),\n",
    "            batch_size=batch_size,\n",
    "            shuffle=shuffle\n",
    "        )\n",
    "        self.test_dataloader = DataLoader(\n",
    "            MyDataset(test_set, input_colums, output_colums),\n",
    "            batch_size=batch_size,\n",
    "            shuffle=False\n",
    "        )\n",
    "        \n",
    "        self.model = NeuralNetwork(\n",
    "            inputs=len(input_colums),\n",
    "            outputs=len(output_colums),\n",
    "            middle_layers=model_middle_layers\n",
    "        ).to(device)\n",
    "        \n",
    "        self.loss_func = MSELoss()\n",
    "        self.optimizer = SGD(self.model.parameters(), lr=learning_rate)  \n",
    "        \n",
    "        self.validate_loss_list = []     \n",
    "        self.train_loss_list = []\n",
    "    \n",
    "    def train(self):\n",
    "        size = len(self.train_dataloader.dataset)\n",
    "        self.model.train()\n",
    "        train_loss = 0.\n",
    "        for batch, (X, y) in enumerate(self.train_dataloader):\n",
    "            X, y = X.to(device), y.to(device)\n",
    "\n",
    "            # Compute prediction error\n",
    "            pred = self.model(X)\n",
    "            loss: torch.Tensor = self.loss_func(pred, y)\n",
    "\n",
    "            # Backpropagation\n",
    "            loss.backward()\n",
    "            self.optimizer.step()\n",
    "            self.optimizer.zero_grad()\n",
    "            train_loss += loss.item()\n",
    "        \n",
    "        avg_loss = train_loss/len(self.train_dataloader)\n",
    "        self.train_loss_list.append(avg_loss)\n",
    "        return avg_loss\n",
    "                \n",
    "    def validate(self):\n",
    "        self.model.eval()\n",
    "        val_loss_sum = 0\n",
    "        with torch.no_grad():\n",
    "            for X, y in self.test_dataloader:\n",
    "                X, y = X.to(device), y.to(device)\n",
    "                pred = self.model(X)\n",
    "                val_loss_sum += self.loss_func(pred, y).item()\n",
    "        avg_loss = val_loss_sum/len(self.test_dataloader)\n",
    "        self.validate_loss_list.append(avg_loss)\n",
    "        return avg_loss        \n",
    "        \n",
    "    def run(self,  epochs=10):\n",
    "        for t in range(epochs):\n",
    "            train_avg_loss = self.train()\n",
    "            \n",
    "            val_avg_loss = self.validate()\n",
    "            counter_1 = epochs / 5\n",
    "            if t % counter_1 == 0:\n",
    "                print(f'Epoch [{t + 1:03}/{epochs:03}] | Train Loss: {train_avg_loss:.6f}')\n",
    "                print(f\"Validation AVG Loss: {val_avg_loss:>12f} \\n\")\n",
    "            \n",
    "        print(\"Done!\")\n",
    "    \n",
    "    # def predict(self, input: np.array):\n",
    "    #     print('Входные данные:', input)\n",
    "    #     for index, item in enumerate(self.input_colums):\n",
    "    #         input[index] = (input[index] - self.normalize_param[item]['mean']) /\\\n",
    "    #             self.normalize_param[item]['std']\n",
    "    #     print('Нормализованные:', input)\n",
    "    #     pred:torch.Tensor = self.model(torch.tensor(input, dtype=torch.float32))        \n",
    "    #     pred = pred.detach().numpy()\n",
    "    #     print('Вывод модели:', pred)\n",
    "    #     for index, item in enumerate(self.output_colums):\n",
    "    #         # pred[index] = pred[index] * self.normalize_param[item]['lenght']\n",
    "    #         pred[index] = pred[index] * self.normalize_param[item]['std'] +\\\n",
    "    #             self.normalize_param[item]['mean']\n",
    "    #     print('Денормализованные данные:', pred)\n",
    "    #     return pred  \n",
    "    \n",
    "    def predict(self, input: np.array):\n",
    "        input = input.astype(float)\n",
    "        print('Входные данные:', input)\n",
    "        for index, item in enumerate(self.input_colums):\n",
    "            input[index] = 2 * ((input[index] - self.normalize_param[item]['min']) /\\\n",
    "                (self.normalize_param[item]['max'] - self.normalize_param[item]['min'])) -1\n",
    "        print('Нормализованные:', input)\n",
    "        pred:torch.Tensor = self.model(torch.tensor(input, dtype=torch.float32))        \n",
    "        pred = pred.detach().numpy()\n",
    "        print('Вывод модели:', pred)\n",
    "        for index, item in enumerate(self.output_colums):\n",
    "            pred[index] = (1 + pred[index]) / 2 * \\\n",
    "                (self.normalize_param[item]['max'] - self.normalize_param[item]['min']) +\\\n",
    "                    self.normalize_param[item]['min']\n",
    "        print('Денормализованные данные:', pred)\n",
    "        return pred  \n",
    "    \n",
    "    def _normalize(self,\n",
    "                   data: pd.DataFrame,\n",
    "                   colum: str) -> torch.Tensor:\n",
    "        max_val = data[colum].max()\n",
    "        min_val = data[colum].min()\n",
    "        data[colum] = 2 * ((data[colum] - min_val) / (max_val - min_val)) -1\n",
    "        return {'max': max_val, 'min': min_val}\n",
    "    \n",
    "    # def _normalize(self,\n",
    "    #                data: pd.DataFrame,\n",
    "    #                colum: str) -> torch.Tensor:\n",
    "    #     mean = data[colum].mean()\n",
    "    #     std = data[colum].std()\n",
    "    #     data[colum] = (data[colum] - mean) / std  \n",
    "    #     return {'mean': mean, 'std': std}\n",
    "    \n",
    "    def save_model(self):\n",
    "        torch.save(self.model, self.save_path+self.uniq_name+'_model_weights.pth')       \n",
    "    \n",
    "    def _normalize_data(self, data, colums):\n",
    "        params = {}\n",
    "        for colum in colums:\n",
    "            params[colum] = self._normalize(data, colum)\n",
    "        return params\n",
    "    \n",
    "    def _denormalize(self, tensor, mean, std) -> torch.Tensor:\n",
    "        return tensor * std\n",
    "    \n",
    "    def plot_train_result(self):\n",
    "        plt.plot(range(len(self.train_loss_list)), self.train_loss_list, self.validate_loss_list)"
   ]
  },
  {
   "cell_type": "code",
   "execution_count": 116,
   "metadata": {},
   "outputs": [],
   "source": [
    "class LoadModel():\n",
    "    def __init__(self, model_path, normalize_params_path, input_colums, output_colums) -> None:\n",
    "        self.input_colums = input_colums\n",
    "        self.output_colums = output_colums\n",
    "        self._model_path = model_path\n",
    "        with open(normalize_params_path, 'rb') as file: \n",
    "            self.normalize_param = pickle.load(file)\n",
    "        self.model = torch.load(model_path)\n",
    "        self.model.eval()\n",
    "    \n",
    "    def predict(self, input):\n",
    "        input = input.astype(float)\n",
    "        print('Входные данные:', input)\n",
    "        for index, item in enumerate(self.input_colums):\n",
    "            input[index] = 2 * ((input[index] - self.normalize_param[item]['min']) /\\\n",
    "                (self.normalize_param[item]['max'] - self.normalize_param[item]['min'])) -1\n",
    "        print('Нормализованные:', input)\n",
    "        pred:torch.Tensor = self.model(torch.tensor(input, dtype=torch.float32))        \n",
    "        pred = pred.detach().numpy()\n",
    "        print('Вывод модели:', pred)\n",
    "        for index, item in enumerate(self.output_colums):\n",
    "            pred[index] = (1 + pred[index]) / 2 * \\\n",
    "                (self.normalize_param[item]['max'] - self.normalize_param[item]['min']) +\\\n",
    "                    self.normalize_param[item]['min']\n",
    "        print('Денормализованные данные:', pred)\n",
    "        return pred"
   ]
  },
  {
   "cell_type": "markdown",
   "metadata": {},
   "source": [
    "# Анализ"
   ]
  },
  {
   "cell_type": "code",
   "execution_count": 117,
   "metadata": {},
   "outputs": [
    {
     "name": "stdout",
     "output_type": "stream",
     "text": [
      "Read data set from path data\\DataSet900.csv\n"
     ]
    }
   ],
   "source": [
    "# First star\n",
    "data_1_path = Path(\"data/DataSet900.csv\")\n",
    "data_2_path = Path(\"data/DataSet1000.csv\")\n",
    "data_3_path = Path(\"data/DataSet100000.csv\")\n",
    "data_4_path = Path(\"data/DataSet129600.csv\")\n",
    "\n",
    "dataset = load_data(data_1_path)"
   ]
  },
  {
   "cell_type": "code",
   "execution_count": 118,
   "metadata": {},
   "outputs": [
    {
     "data": {
      "text/html": [
       "<div>\n",
       "<style scoped>\n",
       "    .dataframe tbody tr th:only-of-type {\n",
       "        vertical-align: middle;\n",
       "    }\n",
       "\n",
       "    .dataframe tbody tr th {\n",
       "        vertical-align: top;\n",
       "    }\n",
       "\n",
       "    .dataframe thead th {\n",
       "        text-align: right;\n",
       "    }\n",
       "</style>\n",
       "<table border=\"1\" class=\"dataframe\">\n",
       "  <thead>\n",
       "    <tr style=\"text-align: right;\">\n",
       "      <th></th>\n",
       "      <th>parameter1</th>\n",
       "      <th>parameter2</th>\n",
       "      <th>criteria1</th>\n",
       "      <th>criteria2</th>\n",
       "      <th>constraint1</th>\n",
       "      <th>constraint2</th>\n",
       "    </tr>\n",
       "  </thead>\n",
       "  <tbody>\n",
       "    <tr>\n",
       "      <th>0</th>\n",
       "      <td>10.0</td>\n",
       "      <td>10.0</td>\n",
       "      <td>20.0</td>\n",
       "      <td>0.000</td>\n",
       "      <td>True</td>\n",
       "      <td>False</td>\n",
       "    </tr>\n",
       "    <tr>\n",
       "      <th>1</th>\n",
       "      <td>10.0</td>\n",
       "      <td>13.0</td>\n",
       "      <td>23.0</td>\n",
       "      <td>216.770</td>\n",
       "      <td>True</td>\n",
       "      <td>True</td>\n",
       "    </tr>\n",
       "    <tr>\n",
       "      <th>2</th>\n",
       "      <td>10.0</td>\n",
       "      <td>16.0</td>\n",
       "      <td>26.0</td>\n",
       "      <td>490.088</td>\n",
       "      <td>True</td>\n",
       "      <td>True</td>\n",
       "    </tr>\n",
       "    <tr>\n",
       "      <th>3</th>\n",
       "      <td>10.0</td>\n",
       "      <td>19.0</td>\n",
       "      <td>29.0</td>\n",
       "      <td>819.956</td>\n",
       "      <td>False</td>\n",
       "      <td>True</td>\n",
       "    </tr>\n",
       "    <tr>\n",
       "      <th>4</th>\n",
       "      <td>10.0</td>\n",
       "      <td>22.0</td>\n",
       "      <td>32.0</td>\n",
       "      <td>1206.370</td>\n",
       "      <td>False</td>\n",
       "      <td>True</td>\n",
       "    </tr>\n",
       "  </tbody>\n",
       "</table>\n",
       "</div>"
      ],
      "text/plain": [
       "   parameter1  parameter2  criteria1  criteria2  constraint1  constraint2\n",
       "0        10.0        10.0       20.0      0.000         True        False\n",
       "1        10.0        13.0       23.0    216.770         True         True\n",
       "2        10.0        16.0       26.0    490.088         True         True\n",
       "3        10.0        19.0       29.0    819.956        False         True\n",
       "4        10.0        22.0       32.0   1206.370        False         True"
      ]
     },
     "execution_count": 118,
     "metadata": {},
     "output_type": "execute_result"
    }
   ],
   "source": [
    "dataset.head()"
   ]
  },
  {
   "cell_type": "markdown",
   "metadata": {},
   "source": [
    "# Проверка 1 \n",
    "input_colums=['criteria1', 'criteria2'],\n",
    "\n",
    "output_colums=['parameter1', 'parameter2'],"
   ]
  },
  {
   "cell_type": "code",
   "execution_count": 119,
   "metadata": {},
   "outputs": [
    {
     "name": "stdout",
     "output_type": "stream",
     "text": [
      "Epoch [001/1000] | Train Loss: 0.373811\n",
      "Validation AVG Loss:     0.285162 \n",
      "\n",
      "Epoch [201/1000] | Train Loss: 0.001933\n",
      "Validation AVG Loss:     0.001846 \n",
      "\n",
      "Epoch [401/1000] | Train Loss: 0.001947\n",
      "Validation AVG Loss:     0.001853 \n",
      "\n",
      "Epoch [601/1000] | Train Loss: 0.000640\n",
      "Validation AVG Loss:     0.000591 \n",
      "\n",
      "Epoch [801/1000] | Train Loss: 0.000492\n",
      "Validation AVG Loss:     0.000474 \n",
      "\n",
      "Done!\n"
     ]
    }
   ],
   "source": [
    "trainer_1 = Trainer(\n",
    "    data=dataset,\n",
    "    input_colums=['criteria1', 'criteria2'],\n",
    "    output_colums=['parameter1', 'parameter2'],\n",
    "    batch_size=1000,\n",
    "    learning_rate=0.1,\n",
    "    shuffle=False,\n",
    "    test_size=0.2,\n",
    "    random_state=30,\n",
    "    save_path='saved_model/',\n",
    "    model_middle_layers=1024,\n",
    ")\n",
    "trainer_1.run(1000)\n"
   ]
  },
  {
   "cell_type": "code",
   "execution_count": 120,
   "metadata": {},
   "outputs": [
    {
     "data": {
      "image/png": "[encoded data removed]",
      "text/plain": [
       "<Figure size 640x480 with 1 Axes>"
      ]
     },
     "metadata": {},
     "output_type": "display_data"
    }
   ],
   "source": [
    "trainer_1.plot_train_result()"
   ]
  },
  {
   "cell_type": "code",
   "execution_count": 123,
   "metadata": {},
   "outputs": [
    {
     "name": "stdout",
     "output_type": "stream",
     "text": [
      "Входные данные: [  119. 25795.]\n",
      "Нормализованные: [0.13793103 0.8820281 ]\n",
      "Вывод модели: [-0.6891629   0.93048465]\n",
      "Денормализованные данные: [23.521414 93.97608 ]\n",
      "{'criteria1': {'max': 194.0, 'min': 20.0}, 'criteria2': {'max': 29245.1, 'min': -29245.1}, 'parameter1': {'max': 97.0, 'min': 10.0}, 'parameter2': {'max': 97.0, 'min': 10.0}}\n",
      "Входные данные: [  119. 25795.]\n",
      "Нормализованные: [0.13793103 0.8820281 ]\n",
      "Вывод модели: [-0.6891629   0.93048465]\n",
      "Денормализованные данные: [23.521414 93.97608 ]\n",
      "[23.521414 93.97608 ]\n"
     ]
    }
   ],
   "source": [
    "trainer_1.save_model()\n",
    "trainer_1.predict(np.array([119, 25795]))\n",
    "\n",
    "print(trainer_1.normalize_param)\n",
    "\n",
    "# Next starts\n",
    "load_model = LoadModel(\n",
    "    'saved_model/criteria1_criteria2_parameter1_parameter2_model_weights.pth',\n",
    "    'saved_model/criteria1_criteria2_parameter1_parameter2_normalize_params.pkl',\n",
    "    input_colums=['criteria1', 'criteria2'],\n",
    "    output_colums=['parameter1', 'parameter2']\n",
    ")\n",
    "print(load_model.predict(np.array([119,\t25795])))"
   ]
  },
  {
   "cell_type": "code",
   "execution_count": null,
   "metadata": {},
   "outputs": [
    {
     "data": {
      "text/html": [
       "<div>\n",
       "<style scoped>\n",
       "    .dataframe tbody tr th:only-of-type {\n",
       "        vertical-align: middle;\n",
       "    }\n",
       "\n",
       "    .dataframe tbody tr th {\n",
       "        vertical-align: top;\n",
       "    }\n",
       "\n",
       "    .dataframe thead th {\n",
       "        text-align: right;\n",
       "    }\n",
       "</style>\n",
       "<table border=\"1\" class=\"dataframe\">\n",
       "  <thead>\n",
       "    <tr style=\"text-align: right;\">\n",
       "      <th></th>\n",
       "      <th>parameter1</th>\n",
       "      <th>parameter2</th>\n",
       "      <th>criteria1</th>\n",
       "      <th>criteria2</th>\n",
       "      <th>constraint1</th>\n",
       "      <th>constraint2</th>\n",
       "    </tr>\n",
       "  </thead>\n",
       "  <tbody>\n",
       "    <tr>\n",
       "      <th>178</th>\n",
       "      <td>25.0</td>\n",
       "      <td>94.0</td>\n",
       "      <td>119.0</td>\n",
       "      <td>25795.6</td>\n",
       "      <td>False</td>\n",
       "      <td>True</td>\n",
       "    </tr>\n",
       "    <tr>\n",
       "      <th>179</th>\n",
       "      <td>25.0</td>\n",
       "      <td>97.0</td>\n",
       "      <td>122.0</td>\n",
       "      <td>27595.7</td>\n",
       "      <td>False</td>\n",
       "      <td>True</td>\n",
       "    </tr>\n",
       "  </tbody>\n",
       "</table>\n",
       "</div>"
      ],
      "text/plain": [
       "     parameter1  parameter2  criteria1  criteria2  constraint1  constraint2\n",
       "178        25.0        94.0      119.0    25795.6        False         True\n",
       "179        25.0        97.0      122.0    27595.7        False         True"
      ]
     },
     "execution_count": 81,
     "metadata": {},
     "output_type": "execute_result"
    }
   ],
   "source": [
    "dataset.iloc[178:180]"
   ]
  },
  {
   "cell_type": "markdown",
   "metadata": {},
   "source": [
    "# Проверка 2\n",
    "input_colums=['parameter1', 'parameter2'],\n",
    "\n",
    "output_colums=['criteria1', 'criteria2'],"
   ]
  },
  {
   "cell_type": "code",
   "execution_count": null,
   "metadata": {},
   "outputs": [
    {
     "name": "stdout",
     "output_type": "stream",
     "text": [
      "Epoch [001/1000] | Train Loss: 0.179646\n",
      "Validation AVG Loss:     0.035632 \n",
      "\n",
      "Epoch [201/1000] | Train Loss: 0.000822\n",
      "Validation AVG Loss:     0.000829 \n",
      "\n",
      "Epoch [401/1000] | Train Loss: 0.000449\n",
      "Validation AVG Loss:     0.000455 \n",
      "\n",
      "Epoch [601/1000] | Train Loss: 0.000218\n",
      "Validation AVG Loss:     0.000211 \n",
      "\n",
      "Epoch [801/1000] | Train Loss: 0.000171\n",
      "Validation AVG Loss:     0.000170 \n",
      "\n",
      "Done!\n"
     ]
    }
   ],
   "source": [
    "trainer_2 = Trainer(\n",
    "    data=dataset,\n",
    "    input_colums=['parameter1', 'parameter2'],\n",
    "    output_colums=['criteria1', 'criteria2'],\n",
    "    batch_size=1000,\n",
    "    learning_rate=0.5,\n",
    "    shuffle=False,\n",
    "    test_size=0.2,\n",
    "    random_state=30,\n",
    "    save_path='saved_model/',\n",
    "    model_middle_layers=1024,\n",
    ")\n",
    "trainer_2.run(1000)\n"
   ]
  },
  {
   "cell_type": "code",
   "execution_count": null,
   "metadata": {},
   "outputs": [
    {
     "data": {
      "image/png": "[encoded data removed]",
      "text/plain": [
       "<Figure size 640x480 with 1 Axes>"
      ]
     },
     "metadata": {},
     "output_type": "display_data"
    }
   ],
   "source": [
    "trainer_2.plot_train_result()"
   ]
  },
  {
   "cell_type": "code",
   "execution_count": null,
   "metadata": {},
   "outputs": [
    {
     "name": "stdout",
     "output_type": "stream",
     "text": [
      "Входные данные: [25. 94.]\n",
      "Нормализованные: [-0.65517241  0.93103448]\n",
      "Вывод модели: [0.1259896 0.877675 ]\n",
      "Денормализованные данные: [  117.9611 25667.693 ]\n",
      "{'parameter1': {'max': 97.0, 'min': 10.0}, 'parameter2': {'max': 97.0, 'min': 10.0}, 'criteria1': {'max': 194.0, 'min': 20.0}, 'criteria2': {'max': 29245.1, 'min': -29245.1}}\n"
     ]
    }
   ],
   "source": [
    "trainer_2.save_model()\n",
    "trainer_2.predict(np.array([25., 94.]))\n",
    "\n",
    "print(trainer_2.normalize_param)"
   ]
  },
  {
   "cell_type": "code",
   "execution_count": null,
   "metadata": {},
   "outputs": [
    {
     "data": {
      "text/html": [
       "<div>\n",
       "<style scoped>\n",
       "    .dataframe tbody tr th:only-of-type {\n",
       "        vertical-align: middle;\n",
       "    }\n",
       "\n",
       "    .dataframe tbody tr th {\n",
       "        vertical-align: top;\n",
       "    }\n",
       "\n",
       "    .dataframe thead th {\n",
       "        text-align: right;\n",
       "    }\n",
       "</style>\n",
       "<table border=\"1\" class=\"dataframe\">\n",
       "  <thead>\n",
       "    <tr style=\"text-align: right;\">\n",
       "      <th></th>\n",
       "      <th>parameter1</th>\n",
       "      <th>parameter2</th>\n",
       "      <th>criteria1</th>\n",
       "      <th>criteria2</th>\n",
       "      <th>constraint1</th>\n",
       "      <th>constraint2</th>\n",
       "    </tr>\n",
       "  </thead>\n",
       "  <tbody>\n",
       "    <tr>\n",
       "      <th>178</th>\n",
       "      <td>25.0</td>\n",
       "      <td>94.0</td>\n",
       "      <td>119.0</td>\n",
       "      <td>25795.6</td>\n",
       "      <td>False</td>\n",
       "      <td>True</td>\n",
       "    </tr>\n",
       "    <tr>\n",
       "      <th>179</th>\n",
       "      <td>25.0</td>\n",
       "      <td>97.0</td>\n",
       "      <td>122.0</td>\n",
       "      <td>27595.7</td>\n",
       "      <td>False</td>\n",
       "      <td>True</td>\n",
       "    </tr>\n",
       "  </tbody>\n",
       "</table>\n",
       "</div>"
      ],
      "text/plain": [
       "     parameter1  parameter2  criteria1  criteria2  constraint1  constraint2\n",
       "178        25.0        94.0      119.0    25795.6        False         True\n",
       "179        25.0        97.0      122.0    27595.7        False         True"
      ]
     },
     "execution_count": 85,
     "metadata": {},
     "output_type": "execute_result"
    }
   ],
   "source": [
    "dataset.iloc[178:180]"
   ]
  },
  {
   "cell_type": "markdown",
   "metadata": {},
   "source": [
    "# Проверка 3\n",
    "input_colums=['parameter1', 'criteria1'],\n",
    "\n",
    "output_colums=['parameter2', 'criteria2'],"
   ]
  },
  {
   "cell_type": "code",
   "execution_count": null,
   "metadata": {},
   "outputs": [
    {
     "name": "stdout",
     "output_type": "stream",
     "text": [
      "Epoch [001/1000] | Train Loss: 0.284985\n",
      "Validation AVG Loss:     0.229308 \n",
      "\n",
      "Epoch [201/1000] | Train Loss: 0.003807\n",
      "Validation AVG Loss:     0.004516 \n",
      "\n",
      "Epoch [401/1000] | Train Loss: 0.000897\n",
      "Validation AVG Loss:     0.000935 \n",
      "\n",
      "Epoch [601/1000] | Train Loss: 0.000544\n",
      "Validation AVG Loss:     0.000554 \n",
      "\n",
      "Epoch [801/1000] | Train Loss: 0.000358\n",
      "Validation AVG Loss:     0.000359 \n",
      "\n",
      "Done!\n"
     ]
    }
   ],
   "source": [
    "trainer_3 = Trainer(\n",
    "    data=dataset,\n",
    "    input_colums=['parameter1', 'criteria1'],\n",
    "    output_colums=['parameter2', 'criteria2'],\n",
    "    batch_size=1000,\n",
    "    learning_rate=0.1,\n",
    "    shuffle=False,\n",
    "    test_size=0.2,\n",
    "    random_state=30,\n",
    "    save_path='saved_model/',\n",
    "    model_middle_layers=1024,\n",
    ")\n",
    "trainer_3.run(1000)\n"
   ]
  },
  {
   "cell_type": "code",
   "execution_count": null,
   "metadata": {},
   "outputs": [
    {
     "data": {
      "image/png": "[encoded data removed]",
      "text/plain": [
       "<Figure size 640x480 with 1 Axes>"
      ]
     },
     "metadata": {},
     "output_type": "display_data"
    }
   ],
   "source": [
    "trainer_3.plot_train_result()"
   ]
  },
  {
   "cell_type": "code",
   "execution_count": null,
   "metadata": {},
   "outputs": [
    {
     "name": "stdout",
     "output_type": "stream",
     "text": [
      "Входные данные: [ 25. 119.]\n",
      "Нормализованные: [-0.65517241  0.13793103]\n",
      "Вывод модели: [0.94981164 0.88581824]\n",
      "Денормализованные данные: [   94.8168 25905.844 ]\n",
      "{'parameter1': {'max': 97.0, 'min': 10.0}, 'criteria1': {'max': 194.0, 'min': 20.0}, 'parameter2': {'max': 97.0, 'min': 10.0}, 'criteria2': {'max': 29245.1, 'min': -29245.1}}\n"
     ]
    }
   ],
   "source": [
    "trainer_3.save_model()\n",
    "trainer_3.predict(np.array([25., 119.]))\n",
    "\n",
    "print(trainer_3.normalize_param)"
   ]
  },
  {
   "cell_type": "code",
   "execution_count": null,
   "metadata": {},
   "outputs": [
    {
     "data": {
      "text/html": [
       "<div>\n",
       "<style scoped>\n",
       "    .dataframe tbody tr th:only-of-type {\n",
       "        vertical-align: middle;\n",
       "    }\n",
       "\n",
       "    .dataframe tbody tr th {\n",
       "        vertical-align: top;\n",
       "    }\n",
       "\n",
       "    .dataframe thead th {\n",
       "        text-align: right;\n",
       "    }\n",
       "</style>\n",
       "<table border=\"1\" class=\"dataframe\">\n",
       "  <thead>\n",
       "    <tr style=\"text-align: right;\">\n",
       "      <th></th>\n",
       "      <th>parameter1</th>\n",
       "      <th>parameter2</th>\n",
       "      <th>criteria1</th>\n",
       "      <th>criteria2</th>\n",
       "      <th>constraint1</th>\n",
       "      <th>constraint2</th>\n",
       "    </tr>\n",
       "  </thead>\n",
       "  <tbody>\n",
       "    <tr>\n",
       "      <th>178</th>\n",
       "      <td>25.0</td>\n",
       "      <td>94.0</td>\n",
       "      <td>119.0</td>\n",
       "      <td>25795.6</td>\n",
       "      <td>False</td>\n",
       "      <td>True</td>\n",
       "    </tr>\n",
       "    <tr>\n",
       "      <th>179</th>\n",
       "      <td>25.0</td>\n",
       "      <td>97.0</td>\n",
       "      <td>122.0</td>\n",
       "      <td>27595.7</td>\n",
       "      <td>False</td>\n",
       "      <td>True</td>\n",
       "    </tr>\n",
       "  </tbody>\n",
       "</table>\n",
       "</div>"
      ],
      "text/plain": [
       "     parameter1  parameter2  criteria1  criteria2  constraint1  constraint2\n",
       "178        25.0        94.0      119.0    25795.6        False         True\n",
       "179        25.0        97.0      122.0    27595.7        False         True"
      ]
     },
     "execution_count": 89,
     "metadata": {},
     "output_type": "execute_result"
    }
   ],
   "source": [
    "dataset.iloc[178:180]"
   ]
  },
  {
   "cell_type": "markdown",
   "metadata": {},
   "source": [
    "# Проверка 4\n",
    "input_colums=['parameter2', 'criteria2'],\n",
    "\n",
    "output_colums=['parameter1', 'criteria1'],"
   ]
  },
  {
   "cell_type": "code",
   "execution_count": null,
   "metadata": {},
   "outputs": [
    {
     "name": "stdout",
     "output_type": "stream",
     "text": [
      "Epoch [001/1000] | Train Loss: 0.271122\n",
      "Validation AVG Loss:     0.238402 \n",
      "\n",
      "Epoch [201/1000] | Train Loss: 0.004921\n",
      "Validation AVG Loss:     0.004770 \n",
      "\n",
      "Epoch [401/1000] | Train Loss: 0.002635\n",
      "Validation AVG Loss:     0.002493 \n",
      "\n",
      "Epoch [601/1000] | Train Loss: 0.001727\n",
      "Validation AVG Loss:     0.001614 \n",
      "\n",
      "Epoch [801/1000] | Train Loss: 0.001281\n",
      "Validation AVG Loss:     0.001187 \n",
      "\n",
      "Done!\n"
     ]
    }
   ],
   "source": [
    "trainer_4 = Trainer(\n",
    "    data=dataset,\n",
    "    input_colums=['parameter2', 'criteria2'],\n",
    "    output_colums=['parameter1', 'criteria1'],\n",
    "    batch_size=1000,\n",
    "    learning_rate=0.1,\n",
    "    shuffle=False,\n",
    "    test_size=0.2,\n",
    "    random_state=30,\n",
    "    save_path='saved_model/',\n",
    "    model_middle_layers=1024,\n",
    ")\n",
    "trainer_4.run(1000)\n"
   ]
  },
  {
   "cell_type": "code",
   "execution_count": null,
   "metadata": {},
   "outputs": [
    {
     "data": {
      "image/png": "[encoded data removed]",
      "text/plain": [
       "<Figure size 640x480 with 1 Axes>"
      ]
     },
     "metadata": {},
     "output_type": "display_data"
    }
   ],
   "source": [
    "trainer_4.plot_train_result()"
   ]
  },
  {
   "cell_type": "code",
   "execution_count": null,
   "metadata": {},
   "outputs": [
    {
     "name": "stdout",
     "output_type": "stream",
     "text": [
      "Входные данные: [   94. 25795.]\n",
      "Нормализованные: [0.93103448 0.8820281 ]\n",
      "Вывод модели: [-0.62589693  0.16081075]\n",
      "Денормализованные данные: [ 26.273483 120.99053 ]\n",
      "{'parameter2': {'max': 97.0, 'min': 10.0}, 'criteria2': {'max': 29245.1, 'min': -29245.1}, 'parameter1': {'max': 97.0, 'min': 10.0}, 'criteria1': {'max': 194.0, 'min': 20.0}}\n"
     ]
    }
   ],
   "source": [
    "trainer_4.save_model()\n",
    "trainer_4.predict(np.array([94., 25795.]))\n",
    "\n",
    "print(trainer_4.normalize_param)"
   ]
  },
  {
   "cell_type": "code",
   "execution_count": null,
   "metadata": {},
   "outputs": [
    {
     "data": {
      "text/html": [
       "<div>\n",
       "<style scoped>\n",
       "    .dataframe tbody tr th:only-of-type {\n",
       "        vertical-align: middle;\n",
       "    }\n",
       "\n",
       "    .dataframe tbody tr th {\n",
       "        vertical-align: top;\n",
       "    }\n",
       "\n",
       "    .dataframe thead th {\n",
       "        text-align: right;\n",
       "    }\n",
       "</style>\n",
       "<table border=\"1\" class=\"dataframe\">\n",
       "  <thead>\n",
       "    <tr style=\"text-align: right;\">\n",
       "      <th></th>\n",
       "      <th>parameter1</th>\n",
       "      <th>parameter2</th>\n",
       "      <th>criteria1</th>\n",
       "      <th>criteria2</th>\n",
       "      <th>constraint1</th>\n",
       "      <th>constraint2</th>\n",
       "    </tr>\n",
       "  </thead>\n",
       "  <tbody>\n",
       "    <tr>\n",
       "      <th>178</th>\n",
       "      <td>25.0</td>\n",
       "      <td>94.0</td>\n",
       "      <td>119.0</td>\n",
       "      <td>25795.6</td>\n",
       "      <td>False</td>\n",
       "      <td>True</td>\n",
       "    </tr>\n",
       "    <tr>\n",
       "      <th>179</th>\n",
       "      <td>25.0</td>\n",
       "      <td>97.0</td>\n",
       "      <td>122.0</td>\n",
       "      <td>27595.7</td>\n",
       "      <td>False</td>\n",
       "      <td>True</td>\n",
       "    </tr>\n",
       "  </tbody>\n",
       "</table>\n",
       "</div>"
      ],
      "text/plain": [
       "     parameter1  parameter2  criteria1  criteria2  constraint1  constraint2\n",
       "178        25.0        94.0      119.0    25795.6        False         True\n",
       "179        25.0        97.0      122.0    27595.7        False         True"
      ]
     },
     "execution_count": 93,
     "metadata": {},
     "output_type": "execute_result"
    }
   ],
   "source": [
    "dataset.iloc[178:180]"
   ]
  }
 ],
 "metadata": {
  "kernelspec": {
   "display_name": ".venv",
   "language": "python",
   "name": "python3"
  },
  "language_info": {
   "codemirror_mode": {
    "name": "ipython",
    "version": 3
   },
   "file_extension": ".py",
   "mimetype": "text/x-python",
   "name": "python",
   "nbconvert_exporter": "python",
   "pygments_lexer": "ipython3",
   "version": "3.10.11"
  }
 },
 "nbformat": 4,
 "nbformat_minor": 2
}
